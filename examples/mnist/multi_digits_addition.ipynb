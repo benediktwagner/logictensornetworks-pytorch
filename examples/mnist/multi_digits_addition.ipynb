{
 "cells": [
  {
   "cell_type": "markdown",
   "metadata": {},
   "source": [
    "# MNIST Digit Addition Problem\n",
    "\n",
    "This is an adaptation of the experiment on Single Digit Addition, on a more complicated setup with multiple digits.\n",
    "\n",
    "Consider the classifier $\\mathtt{addition([X_1,X_2],[Y_1,Y_2],N)}$. $\\mathtt{[X_1,X_2]}$ and $\\mathtt{[Y_1,Y_2]}$ are lists of images of digits, representing two multi-digit numbers; $\\mathtt{N}$ is a natural number corresponding to the sum of the two multi-digit numbers. The classifier must return a confidence in the validity of the addition.\n",
    "\n",
    "The steps are similar to that of the Single Digit Addition example (read the first notebook for more details)."
   ]
  },
  {
   "cell_type": "code",
   "execution_count": 1,
   "metadata": {},
   "outputs": [],
   "source": [
    "import tensorflow as tf\n",
    "from tensorflow.keras import layers\n",
    "import logictensornetworks as ltn\n",
    "import baselines, data, commons\n",
    "import matplotlib.pyplot as plt"
   ]
  },
  {
   "cell_type": "markdown",
   "metadata": {},
   "source": [
    "Dataset of images for the digits X1, X2, Y1 and Y2, and their label Z s.t. 10\\*X1+X2+10\\*X2+Y2=Z."
   ]
  },
  {
   "cell_type": "code",
   "execution_count": 2,
   "metadata": {},
   "outputs": [
    {
     "name": "stdout",
     "output_type": "stream",
     "text": [
      "Result label is 126\n"
     ]
    },
    {
     "data": {
      "image/png": "[encoded data removed]",
      "text/plain": [
       "<Figure size 432x288 with 4 Axes>"
      ]
     },
     "metadata": {
      "needs_background": "light"
     },
     "output_type": "display_data"
    }
   ],
   "source": [
    "ds_train, ds_test = data.get_mnist_op_dataset(\n",
    "        count_train=3000,\n",
    "        count_test=1000,\n",
    "        buffer_size=3000,\n",
    "        batch_size=16,\n",
    "        n_operands=4,\n",
    "        op=lambda args: 10*args[0]+args[1]+10*args[2]+args[3])\n",
    "\n",
    "# Visualize one example\n",
    "x1, x2, y1, y2, z = next(ds_train.as_numpy_iterator())\n",
    "plt.subplot(221)\n",
    "plt.imshow(x1[0][:,:,0])\n",
    "plt.subplot(222)\n",
    "plt.imshow(x2[0][:,:,0])\n",
    "plt.subplot(223)\n",
    "plt.imshow(y1[0][:,:,0])\n",
    "plt.subplot(224)\n",
    "plt.imshow(y2[0][:,:,0])\n",
    "print(\"Result label is %i\" % z[0])"
   ]
  },
  {
   "cell_type": "markdown",
   "metadata": {},
   "source": [
    "LTN Model and Loss"
   ]
  },
  {
   "cell_type": "code",
   "execution_count": 3,
   "metadata": {},
   "outputs": [],
   "source": [
    "### Predicates\n",
    "logits_model = baselines.SingleDigit()\n",
    "Digit = ltn.Predicate(ltn.utils.LogitsToPredicateModel(logits_model))\n",
    "### Variables\n",
    "d1 = ltn.variable(\"digits1\", range(10))\n",
    "d2 = ltn.variable(\"digits2\", range(10))\n",
    "d3 = ltn.variable(\"digits3\", range(10))\n",
    "d4 = ltn.variable(\"digits4\", range(10))\n",
    "### Operators\n",
    "Not = ltn.Wrapper_Connective(ltn.fuzzy_ops.Not_Std())\n",
    "And = ltn.Wrapper_Connective(ltn.fuzzy_ops.And_Prod())\n",
    "Or = ltn.Wrapper_Connective(ltn.fuzzy_ops.Or_ProbSum())\n",
    "Implies = ltn.Wrapper_Connective(ltn.fuzzy_ops.Implies_Reichenbach())\n",
    "Forall = ltn.Wrapper_Quantifier(ltn.fuzzy_ops.Aggreg_pMeanError(),semantics=\"forall\")\n",
    "Exists = ltn.Wrapper_Quantifier(ltn.fuzzy_ops.Aggreg_pMean(),semantics=\"exists\")"
   ]
  },
  {
   "cell_type": "code",
   "execution_count": 4,
   "metadata": {},
   "outputs": [
    {
     "data": {
      "text/plain": [
       "<tf.Tensor: shape=(), dtype=float32, numpy=0.0002105236>"
      ]
     },
     "execution_count": 4,
     "metadata": {},
     "output_type": "execute_result"
    }
   ],
   "source": [
    "@tf.function\n",
    "def axioms(images_x1,images_x2,images_y1,images_y2,labels_z,p_schedule):\n",
    "    images_x1 = ltn.variable(\"x1\", images_x1)\n",
    "    images_x2 = ltn.variable(\"x2\", images_x2)\n",
    "    images_y1 = ltn.variable(\"y1\", images_y1)\n",
    "    images_y2 = ltn.variable(\"y2\", images_y2)\n",
    "    labels_z = ltn.variable(\"z\", labels_z)\n",
    "    return Forall(\n",
    "            ltn.diag(images_x1,images_x2,images_y1,images_y2,labels_z),\n",
    "            Exists(\n",
    "                (d1,d2,d3,d4),\n",
    "                And(\n",
    "                    And(Digit([images_x1,d1]),Digit([images_x2,d2])),\n",
    "                    And(Digit([images_y1,d3]),Digit([images_y2,d4]))\n",
    "                ),\n",
    "                mask_vars=[d1,d2,d3,d4,labels_z],\n",
    "                mask_fn=lambda vars: tf.equal(10*vars[0]+vars[1]+10*vars[2]+vars[3],vars[4]),\n",
    "                p=p_schedule\n",
    "            ),\n",
    "            p=2\n",
    "        )\n",
    "\n",
    "x1, x2, y1, y2, z = next(ds_train.as_numpy_iterator())\n",
    "axioms(x1, x2, y1, y2, z, tf.constant(2.))"
   ]
  },
  {
   "cell_type": "markdown",
   "metadata": {},
   "source": [
    "Optimizer, training steps and metrics"
   ]
  },
  {
   "cell_type": "code",
   "execution_count": 5,
   "metadata": {},
   "outputs": [],
   "source": [
    "optimizer = tf.keras.optimizers.Adam(0.001)\n",
    "metrics_dict = {\n",
    "    'train_loss': tf.keras.metrics.Mean(name=\"train_loss\"),\n",
    "    'train_accuracy': tf.keras.metrics.Mean(name=\"train_accuracy\"),\n",
    "    'test_loss': tf.keras.metrics.Mean(name=\"test_loss\"),\n",
    "    'test_accuracy': tf.keras.metrics.Mean(name=\"test_accuracy\")    \n",
    "}\n",
    "\n",
    "@tf.function\n",
    "def train_step(images_x1,images_x2,images_y1,images_y2,labels_z,**kwargs):\n",
    "    # loss\n",
    "    with tf.GradientTape() as tape:\n",
    "        loss = 1.- axioms(images_x1,images_x2,images_y1,images_y2,labels_z,**kwargs)\n",
    "    gradients = tape.gradient(loss, logits_model.trainable_variables)\n",
    "    optimizer.apply_gradients(zip(gradients, logits_model.trainable_variables))\n",
    "    metrics_dict['train_loss'](loss)\n",
    "    # accuracy\n",
    "    predictions_x1 = tf.argmax(logits_model(images_x1),axis=-1)\n",
    "    predictions_x2 = tf.argmax(logits_model(images_x2),axis=-1)\n",
    "    predictions_y1 = tf.argmax(logits_model(images_y1),axis=-1)\n",
    "    predictions_y2 = tf.argmax(logits_model(images_y2),axis=-1)\n",
    "    predictions_z = 10*predictions_x1+predictions_x2+10*predictions_y1+predictions_y2\n",
    "    match = tf.equal(predictions_z,tf.cast(labels_z,predictions_z.dtype))\n",
    "    metrics_dict['train_accuracy'](tf.reduce_mean(tf.cast(match,tf.float32)))\n",
    "    \n",
    "@tf.function\n",
    "def test_step(images_x1,images_x2,images_y1,images_y2,labels_z,**kwargs):\n",
    "    # loss\n",
    "    loss = 1.- axioms(images_x1,images_x2,images_y1,images_y2,labels_z,**kwargs)\n",
    "    metrics_dict['test_loss'](loss)\n",
    "    # accuracy\n",
    "    predictions_x1 = tf.argmax(logits_model(images_x1),axis=-1)\n",
    "    predictions_x2 = tf.argmax(logits_model(images_x2),axis=-1)\n",
    "    predictions_y1 = tf.argmax(logits_model(images_y1),axis=-1)\n",
    "    predictions_y2 = tf.argmax(logits_model(images_y2),axis=-1)\n",
    "    predictions_z = 10*predictions_x1+predictions_x2+10*predictions_y1+predictions_y2\n",
    "    match = tf.equal(predictions_z,tf.cast(labels_z,predictions_z.dtype))\n",
    "    metrics_dict['test_accuracy'](tf.reduce_mean(tf.cast(match,tf.float32)))"
   ]
  },
  {
   "cell_type": "markdown",
   "metadata": {},
   "source": [
    "Training"
   ]
  },
  {
   "cell_type": "code",
   "execution_count": 6,
   "metadata": {},
   "outputs": [],
   "source": [
    "from collections import defaultdict\n",
    "\n",
    "scheduled_parameters = defaultdict(lambda: {})\n",
    "for epoch in range(0,4):\n",
    "    scheduled_parameters[epoch] = {\"p_schedule\":tf.constant(1.)}\n",
    "for epoch in range(4,8):\n",
    "    scheduled_parameters[epoch] = {\"p_schedule\":tf.constant(2.)}\n",
    "for epoch in range(8,12):\n",
    "    scheduled_parameters[epoch] = {\"p_schedule\":tf.constant(4.)}\n",
    "for epoch in range(12,20):\n",
    "    scheduled_parameters[epoch] = {\"p_schedule\":tf.constant(6.)}\n"
   ]
  },
  {
   "cell_type": "code",
   "execution_count": 7,
   "metadata": {},
   "outputs": [
    {
     "name": "stdout",
     "output_type": "stream",
     "text": [
      "WARNING:tensorflow:Layer single_digit is casting an input tensor from dtype float64 to the layer's dtype of float32, which is new behavior in TensorFlow 2.  The layer has dtype float32 because it's dtype defaults to floatx.\n",
      "\n",
      "If you intended to run this layer in float32, you can safely ignore this warning. If in doubt, this warning is likely only an issue if you are porting a TensorFlow 1.X model to TensorFlow 2.\n",
      "\n",
      "To change all layers to have dtype float64 by default, call `tf.keras.backend.set_floatx('float64')`. To change just this layer, pass dtype='float64' to the layer constructor. If you are the author of this layer, you can disable autocasting by passing autocast=False to the base Layer constructor.\n",
      "\n",
      "Epoch 0, train_loss: 0.9974, train_accuracy: 0.1499, test_loss: 0.9913, test_accuracy: 0.4266\n",
      "Epoch 1, train_loss: 0.9870, train_accuracy: 0.7031, test_loss: 0.9865, test_accuracy: 0.6915\n",
      "Epoch 2, train_loss: 0.9845, train_accuracy: 0.8125, test_loss: 0.9860, test_accuracy: 0.6895\n",
      "Epoch 3, train_loss: 0.9836, train_accuracy: 0.8471, test_loss: 0.9848, test_accuracy: 0.7778\n",
      "Epoch 4, train_loss: 0.8939, train_accuracy: 0.8511, test_loss: 0.8978, test_accuracy: 0.7907\n",
      "Epoch 5, train_loss: 0.8861, train_accuracy: 0.8906, test_loss: 0.8909, test_accuracy: 0.8363\n",
      "Epoch 6, train_loss: 0.8831, train_accuracy: 0.9079, test_loss: 0.8925, test_accuracy: 0.8284\n",
      "Epoch 7, train_loss: 0.8806, train_accuracy: 0.9219, test_loss: 0.8896, test_accuracy: 0.8542\n",
      "Epoch 8, train_loss: 0.6913, train_accuracy: 0.9062, test_loss: 0.7214, test_accuracy: 0.8065\n",
      "Epoch 9, train_loss: 0.6857, train_accuracy: 0.9169, test_loss: 0.7179, test_accuracy: 0.8224\n",
      "Epoch 10, train_loss: 0.6786, train_accuracy: 0.9279, test_loss: 0.7046, test_accuracy: 0.8512\n",
      "Epoch 11, train_loss: 0.6739, train_accuracy: 0.9355, test_loss: 0.7031, test_accuracy: 0.8552\n",
      "Epoch 12, train_loss: 0.5568, train_accuracy: 0.9249, test_loss: 0.5901, test_accuracy: 0.8532\n",
      "Epoch 13, train_loss: 0.5542, train_accuracy: 0.9279, test_loss: 0.5843, test_accuracy: 0.8700\n",
      "Epoch 14, train_loss: 0.5447, train_accuracy: 0.9405, test_loss: 0.5976, test_accuracy: 0.8492\n",
      "Epoch 15, train_loss: 0.5357, train_accuracy: 0.9518, test_loss: 0.5741, test_accuracy: 0.8869\n",
      "Epoch 16, train_loss: 0.5344, train_accuracy: 0.9515, test_loss: 0.5897, test_accuracy: 0.8571\n",
      "Epoch 17, train_loss: 0.5322, train_accuracy: 0.9551, test_loss: 0.5932, test_accuracy: 0.8522\n",
      "Epoch 18, train_loss: 0.5306, train_accuracy: 0.9584, test_loss: 0.5771, test_accuracy: 0.8810\n",
      "Epoch 19, train_loss: 0.5297, train_accuracy: 0.9588, test_loss: 0.5908, test_accuracy: 0.8581\n"
     ]
    }
   ],
   "source": [
    "commons.train(\n",
    "    20,\n",
    "    metrics_dict,\n",
    "    ds_train,\n",
    "    ds_test,\n",
    "    train_step,\n",
    "    test_step,\n",
    "    scheduled_parameters=scheduled_parameters\n",
    ")"
   ]
  },
  {
   "cell_type": "code",
   "execution_count": null,
   "metadata": {},
   "outputs": [],
   "source": []
  }
 ],
 "metadata": {
  "kernelspec": {
   "display_name": "env-tf2",
   "language": "python",
   "name": "env-tf2"
  },
  "language_info": {
   "codemirror_mode": {
    "name": "ipython",
    "version": 3
   },
   "file_extension": ".py",
   "mimetype": "text/x-python",
   "name": "python",
   "nbconvert_exporter": "python",
   "pygments_lexer": "ipython3",
   "version": "3.8.6"
  }
 },
 "nbformat": 4,
 "nbformat_minor": 4
}
