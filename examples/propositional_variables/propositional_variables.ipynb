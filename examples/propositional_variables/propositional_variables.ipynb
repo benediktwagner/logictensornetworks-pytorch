{
 "cells": [
  {
   "cell_type": "code",
   "execution_count": 1,
   "metadata": {},
   "outputs": [],
   "source": [
    "import logging; logging.basicConfig(level=logging.INFO)\n",
    "import tensorflow as tf\n",
    "import numpy as np\n",
    "import logictensornetworks as ltn"
   ]
  },
  {
   "cell_type": "code",
   "execution_count": 2,
   "metadata": {},
   "outputs": [],
   "source": [
    "a = ltn.proposition(0.2,trainable=True)\n",
    "b = ltn.proposition(0.5,trainable=True)\n",
    "c = ltn.proposition(0.5,trainable=True)\n",
    "w1 = ltn.proposition(0.3)\n",
    "w2 = ltn.proposition(0.9)\n",
    "\n",
    "x = ltn.variable(\"x\", np.array([[1,2],[3,4],[5,6]]))\n",
    "P = ltn.Predicate.MLP(input_shapes=[(2)])"
   ]
  },
  {
   "cell_type": "code",
   "execution_count": 3,
   "metadata": {},
   "outputs": [],
   "source": [
    "Not = ltn.Wrapper_Connective(ltn.fuzzy_ops.Not_Std())\n",
    "And = ltn.Wrapper_Connective(ltn.fuzzy_ops.And_Prod())\n",
    "Or = ltn.Wrapper_Connective(ltn.fuzzy_ops.Or_ProbSum())\n",
    "Implies = ltn.Wrapper_Connective(ltn.fuzzy_ops.Implies_Reichenbach())\n",
    "Forall = ltn.Wrapper_Quantifier(ltn.fuzzy_ops.Aggreg_pMeanError(p=5),semantics=\"forall\")\n",
    "Exists = ltn.Wrapper_Quantifier(ltn.fuzzy_ops.Aggreg_pMean(p=10),semantics=\"exists\")"
   ]
  },
  {
   "cell_type": "code",
   "execution_count": 4,
   "metadata": {},
   "outputs": [],
   "source": [
    "@tf.function\n",
    "def axioms():\n",
    "    axioms = [\n",
    "        # [ (A and B and (forall x: P(x))) -> Not C ] and C\n",
    "        And(\n",
    "            Implies(And(And(a,b),Forall(x,P(x))),\n",
    "                    Not(c)),\n",
    "            c\n",
    "        ),\n",
    "        # w1 -> (forall x: P(x))\n",
    "        Implies(w1, Forall(x,P(x))),\n",
    "        # w2 -> (Exists x: P(x))\n",
    "        Implies(w2, Exists(x,P(x)))\n",
    "    ]\n",
    "    weights = [\n",
    "        1.,\n",
    "        1.,\n",
    "        1.\n",
    "    ]\n",
    "    axioms = tf.stack([tf.squeeze(ax) for ax in axioms])\n",
    "    weights = tf.stack(weights)\n",
    "    sat_level = tf.reduce_sum(weights*axioms)/tf.reduce_sum(weights)\n",
    "    return sat_level, axioms"
   ]
  },
  {
   "cell_type": "code",
   "execution_count": 5,
   "metadata": {},
   "outputs": [
    {
     "name": "stdout",
     "output_type": "stream",
     "text": [
      "Epoch 0: Sat Level 0.603\n",
      "Epoch 100: Sat Level 0.704\n",
      "Epoch 200: Sat Level 0.764\n",
      "Epoch 300: Sat Level 0.769\n",
      "Epoch 400: Sat Level 0.772\n",
      "Epoch 500: Sat Level 0.772\n",
      "Epoch 600: Sat Level 0.772\n",
      "Epoch 700: Sat Level 0.772\n",
      "Epoch 800: Sat Level 0.772\n",
      "Epoch 900: Sat Level 0.772\n",
      "Training finished at Epoch 999 with Sat Level 0.772\n"
     ]
    }
   ],
   "source": [
    "trainable_variables = [a,b,c]\n",
    "optimizer = tf.keras.optimizers.SGD(learning_rate=0.01)\n",
    "\n",
    "for epoch in range(1000):\n",
    "    with tf.GradientTape() as tape:\n",
    "        loss_value = 1. - axioms()[0]\n",
    "    grads = tape.gradient(loss_value, trainable_variables)\n",
    "    optimizer.apply_gradients(zip(grads, trainable_variables))\n",
    "    if epoch%100 == 0:\n",
    "        print(\"Epoch %d: Sat Level %.3f\"%(epoch, axioms()[0]))\n",
    "print(\"Training finished at Epoch %d with Sat Level %.3f\"%(epoch, axioms()[0]))"
   ]
  },
  {
   "cell_type": "code",
   "execution_count": 6,
   "metadata": {},
   "outputs": [
    {
     "name": "stdout",
     "output_type": "stream",
     "text": [
      "[0.0, 0.45801198, 1.0]\n",
      "[0.99994075 0.8218677  0.49294233]\n"
     ]
    }
   ],
   "source": [
    "print([a.numpy(),b.numpy(),c.numpy()])\n",
    "print(axioms()[1].numpy())"
   ]
  },
  {
   "cell_type": "code",
   "execution_count": null,
   "metadata": {},
   "outputs": [],
   "source": []
  }
 ],
 "metadata": {
  "kernelspec": {
   "display_name": "env-tf2",
   "language": "python",
   "name": "env-tf2"
  },
  "language_info": {
   "codemirror_mode": {
    "name": "ipython",
    "version": 3
   },
   "file_extension": ".py",
   "mimetype": "text/x-python",
   "name": "python",
   "nbconvert_exporter": "python",
   "pygments_lexer": "ipython3",
   "version": "3.8.5"
  }
 },
 "nbformat": 4,
 "nbformat_minor": 4
}
