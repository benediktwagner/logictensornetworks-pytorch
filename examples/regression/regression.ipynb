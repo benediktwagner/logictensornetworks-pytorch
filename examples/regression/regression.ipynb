{
 "cells": [
  {
   "cell_type": "markdown",
   "metadata": {},
   "source": [
    "# Regression with LTN\n",
    "\n",
    "This is a basic example in which we use LTN for training a regression estimator. The essence of regression is to approximate a function $f(x)=y$ where $y$ can be any real value or tensor (as opposed to classifiers which project values to $[0,1]$). We are given examples of this function $x_i$, $y_i$ with $f(x_i)=y_i$. From the examples, we need to estimate a function $f^\\ast$ that approximates $f$.\n",
    "\n",
    "In LTN we can directly model this by defining $f^\\ast$ as a learnable/trainable function with some parameters that are constrained through data. Additionnally, we need a notion of $=$. Here, we use an euclidian distance/similarity to get a smooth $=$ function. We define the following language and theory:\n",
    "- a set of points $x_i$ and $y_i$\n",
    "- a definition of a predicate for equality, modeled as a smooth equality function $\\mathrm{eq}(x,y)=\\exp\\bigg(-\\sqrt{\\sum_j (x_j-y_j)^2}\\bigg)$\n",
    "- a learnable function $f^\\ast$ for which the following constraint hold: $\\mathrm{eq}(f^\\ast(x_i),y_i)$. The function $f^\\ast$ approximates $f(x_i)=y_i$\n",
    "\n",
    "Here, $f^\\ast$ is modeled using a simple MLP."
   ]
  },
  {
   "cell_type": "code",
   "execution_count": 1,
   "metadata": {},
   "outputs": [],
   "source": [
    "import logging; logging.basicConfig(level=logging.INFO)\n",
    "import tensorflow as tf\n",
    "import numpy as np\n",
    "import matplotlib.pyplot as plt\n",
    "import logictensornetworks as ltn\n",
    "import pandas as pd"
   ]
  },
  {
   "cell_type": "markdown",
   "metadata": {},
   "source": [
    "# Data\n",
    "\n",
    "Load the [real estate dataset](https://www.kaggle.com/quantbruce/real-estate-price-prediction): \n",
    "- 414 samples,\n",
    "- 6 float features: transaction date (converted to float, eg. `2012.917` is equivalent to december), house age, distance to station, # of convenience stores nearby, lat, long,\n",
    "- y: house price per unit area"
   ]
  },
  {
   "cell_type": "code",
   "execution_count": 2,
   "metadata": {},
   "outputs": [
    {
     "data": {
      "text/html": [
       "<div>\n",
       "<style scoped>\n",
       "    .dataframe tbody tr th:only-of-type {\n",
       "        vertical-align: middle;\n",
       "    }\n",
       "\n",
       "    .dataframe tbody tr th {\n",
       "        vertical-align: top;\n",
       "    }\n",
       "\n",
       "    .dataframe thead th {\n",
       "        text-align: right;\n",
       "    }\n",
       "</style>\n",
       "<table border=\"1\" class=\"dataframe\">\n",
       "  <thead>\n",
       "    <tr style=\"text-align: right;\">\n",
       "      <th></th>\n",
       "      <th>No</th>\n",
       "      <th>X1 transaction date</th>\n",
       "      <th>X2 house age</th>\n",
       "      <th>X3 distance to the nearest MRT station</th>\n",
       "      <th>X4 number of convenience stores</th>\n",
       "      <th>X5 latitude</th>\n",
       "      <th>X6 longitude</th>\n",
       "      <th>Y house price of unit area</th>\n",
       "    </tr>\n",
       "  </thead>\n",
       "  <tbody>\n",
       "    <tr>\n",
       "      <th>356</th>\n",
       "      <td>357</td>\n",
       "      <td>2012.833</td>\n",
       "      <td>10.3</td>\n",
       "      <td>211.4473</td>\n",
       "      <td>1</td>\n",
       "      <td>24.97417</td>\n",
       "      <td>121.52999</td>\n",
       "      <td>45.3</td>\n",
       "    </tr>\n",
       "    <tr>\n",
       "      <th>101</th>\n",
       "      <td>102</td>\n",
       "      <td>2012.833</td>\n",
       "      <td>12.7</td>\n",
       "      <td>170.1289</td>\n",
       "      <td>1</td>\n",
       "      <td>24.97371</td>\n",
       "      <td>121.52984</td>\n",
       "      <td>32.9</td>\n",
       "    </tr>\n",
       "    <tr>\n",
       "      <th>138</th>\n",
       "      <td>139</td>\n",
       "      <td>2013.167</td>\n",
       "      <td>10.0</td>\n",
       "      <td>942.4664</td>\n",
       "      <td>0</td>\n",
       "      <td>24.97843</td>\n",
       "      <td>121.52406</td>\n",
       "      <td>43.5</td>\n",
       "    </tr>\n",
       "    <tr>\n",
       "      <th>214</th>\n",
       "      <td>215</td>\n",
       "      <td>2013.583</td>\n",
       "      <td>18.1</td>\n",
       "      <td>1783.1800</td>\n",
       "      <td>3</td>\n",
       "      <td>24.96731</td>\n",
       "      <td>121.51486</td>\n",
       "      <td>20.9</td>\n",
       "    </tr>\n",
       "    <tr>\n",
       "      <th>309</th>\n",
       "      <td>310</td>\n",
       "      <td>2013.250</td>\n",
       "      <td>30.3</td>\n",
       "      <td>1264.7300</td>\n",
       "      <td>0</td>\n",
       "      <td>24.94883</td>\n",
       "      <td>121.52954</td>\n",
       "      <td>19.1</td>\n",
       "    </tr>\n",
       "  </tbody>\n",
       "</table>\n",
       "</div>"
      ],
      "text/plain": [
       "      No  X1 transaction date  X2 house age  \\\n",
       "356  357             2012.833          10.3   \n",
       "101  102             2012.833          12.7   \n",
       "138  139             2013.167          10.0   \n",
       "214  215             2013.583          18.1   \n",
       "309  310             2013.250          30.3   \n",
       "\n",
       "     X3 distance to the nearest MRT station  X4 number of convenience stores  \\\n",
       "356                                211.4473                                1   \n",
       "101                                170.1289                                1   \n",
       "138                                942.4664                                0   \n",
       "214                               1783.1800                                3   \n",
       "309                               1264.7300                                0   \n",
       "\n",
       "     X5 latitude  X6 longitude  Y house price of unit area  \n",
       "356     24.97417     121.52999                        45.3  \n",
       "101     24.97371     121.52984                        32.9  \n",
       "138     24.97843     121.52406                        43.5  \n",
       "214     24.96731     121.51486                        20.9  \n",
       "309     24.94883     121.52954                        19.1  "
      ]
     },
     "execution_count": 2,
     "metadata": {},
     "output_type": "execute_result"
    }
   ],
   "source": [
    "df = pd.read_csv(\"real-estate.csv\")\n",
    "df = df.sample(frac=1) #shuffle\n",
    "df.head(5)"
   ]
  },
  {
   "cell_type": "markdown",
   "metadata": {},
   "source": [
    "We use 330 examples for training and 84 examples for testing."
   ]
  },
  {
   "cell_type": "code",
   "execution_count": 3,
   "metadata": {},
   "outputs": [],
   "source": [
    "x = df[['X1 transaction date', 'X2 house age',\n",
    "       'X3 distance to the nearest MRT station',\n",
    "       'X4 number of convenience stores', 'X5 latitude', 'X6 longitude']]\n",
    "y = df[['Y house price of unit area']]\n",
    "\n",
    "batch_size=128\n",
    "ds_train = tf.data.Dataset.from_tensor_slices((x[:330],y[:330])).batch(batch_size)\n",
    "ds_test = tf.data.Dataset.from_tensor_slices((x[330:],y[330:])).batch(batch_size)"
   ]
  },
  {
   "cell_type": "markdown",
   "metadata": {},
   "source": [
    "# LTN"
   ]
  },
  {
   "cell_type": "code",
   "execution_count": 4,
   "metadata": {},
   "outputs": [],
   "source": [
    "f = ltn.Function.MLP(input_shapes=[6],output_shape=[1],hidden_layer_sizes=(8,8))"
   ]
  },
  {
   "cell_type": "code",
   "execution_count": 5,
   "metadata": {},
   "outputs": [],
   "source": [
    "eq = ltn.Predicate.Lambda(\n",
    "    lambda args: tf.exp(-0.05*tf.sqrt(tf.reduce_sum(tf.square(args[0]-args[1]),axis=1)))        \n",
    "    #lambda args: 1/(1+0.5*tf.sqrt(tf.reduce_sum(tf.square(args[0]-args[1]),axis=1)))\n",
    ")\n"
   ]
  },
  {
   "cell_type": "code",
   "execution_count": 6,
   "metadata": {},
   "outputs": [],
   "source": [
    "Not = ltn.Wrapper_Connective(ltn.fuzzy_ops.Not_Std())\n",
    "And = ltn.Wrapper_Connective(ltn.fuzzy_ops.And_Prod())\n",
    "Or = ltn.Wrapper_Connective(ltn.fuzzy_ops.Or_ProbSum())\n",
    "Implies = ltn.Wrapper_Connective(ltn.fuzzy_ops.Implies_Reichenbach())\n",
    "Forall = ltn.Wrapper_Quantifier(ltn.fuzzy_ops.Aggreg_pMeanError(p=2),semantics=\"forall\")\n",
    "Exists = ltn.Wrapper_Quantifier(ltn.fuzzy_ops.Aggreg_pMean(p=2),semantics=\"exists\")"
   ]
  },
  {
   "cell_type": "code",
   "execution_count": 7,
   "metadata": {},
   "outputs": [],
   "source": [
    "@tf.function\n",
    "def axioms(x_data, y_data):\n",
    "    x = ltn.variable(\"x\", x_data)\n",
    "    y = ltn.variable(\"y\", y_data)\n",
    "    return Forall(ltn.diag(x,y), eq([f(x),y]))"
   ]
  },
  {
   "cell_type": "markdown",
   "metadata": {},
   "source": [
    "Initialize all layers and the static graph.\n",
    "\n"
   ]
  },
  {
   "cell_type": "code",
   "execution_count": 8,
   "metadata": {},
   "outputs": [
    {
     "name": "stdout",
     "output_type": "stream",
     "text": [
      "Initial sat level 0.00000\n"
     ]
    }
   ],
   "source": [
    "for x, y in ds_test:\n",
    "    print(\"Initial sat level %.5f\"%axioms(x,y))\n",
    "    break"
   ]
  },
  {
   "cell_type": "markdown",
   "metadata": {},
   "source": [
    "# Training\n",
    "\n",
    "Define the metrics. While training, we measure:\n",
    "1. The level of satisfiability of the Knowledge Base of the training data.\n",
    "2. The level of satisfiability of the Knowledge Base of the test data.\n",
    "3. The training accuracy.\n",
    "4. The test accuracy."
   ]
  },
  {
   "cell_type": "code",
   "execution_count": 9,
   "metadata": {},
   "outputs": [],
   "source": [
    "metrics_dict = {\n",
    "    'train_sat': tf.keras.metrics.Mean(name='train_sat'),\n",
    "    'test_sat': tf.keras.metrics.Mean(name='test_sat'),\n",
    "    'train_accuracy': tf.keras.metrics.RootMeanSquaredError(name=\"train_accuracy\"),\n",
    "    'test_accuracy': tf.keras.metrics.RootMeanSquaredError(name=\"test_accuracy\")\n",
    "}"
   ]
  },
  {
   "cell_type": "markdown",
   "metadata": {},
   "source": [
    "Define the training and testing steps."
   ]
  },
  {
   "cell_type": "code",
   "execution_count": 10,
   "metadata": {},
   "outputs": [],
   "source": [
    "optimizer = tf.keras.optimizers.Adam(learning_rate=0.0005)\n",
    "@tf.function\n",
    "def train_step(x, y):\n",
    "    # sat and update\n",
    "    with tf.GradientTape() as tape:\n",
    "        sat = axioms(x, y)\n",
    "        loss = 1.-sat\n",
    "    gradients = tape.gradient(loss, f.trainable_variables)\n",
    "    optimizer.apply_gradients(zip(gradients, f.trainable_variables))\n",
    "    sat = axioms(x, y)\n",
    "    metrics_dict['train_sat'](sat)\n",
    "    # accuracy\n",
    "    metrics_dict['train_accuracy'](y,f.model(x))\n",
    "    \n",
    "@tf.function\n",
    "def test_step(x, y):\n",
    "    # sat\n",
    "    sat = axioms(x, y)\n",
    "    metrics_dict['test_sat'](sat)\n",
    "    # accuracy\n",
    "    metrics_dict['test_accuracy'](y,f.model(x))"
   ]
  },
  {
   "cell_type": "markdown",
   "metadata": {},
   "source": [
    "Training"
   ]
  },
  {
   "cell_type": "code",
   "execution_count": 11,
   "metadata": {},
   "outputs": [
    {
     "name": "stdout",
     "output_type": "stream",
     "text": [
      "Epoch 0, train_sat: 0.0000, test_sat: 0.0000, train_accuracy: 310.8821, test_accuracy: 295.9734\n",
      "Epoch 50, train_sat: 0.6984, test_sat: 0.7092, train_accuracy: 9.6160, test_accuracy: 7.8660\n",
      "Epoch 100, train_sat: 0.7082, test_sat: 0.7151, train_accuracy: 9.2455, test_accuracy: 7.6387\n",
      "Epoch 150, train_sat: 0.7147, test_sat: 0.7180, train_accuracy: 9.0105, test_accuracy: 7.5855\n",
      "Epoch 200, train_sat: 0.7206, test_sat: 0.7213, train_accuracy: 8.8605, test_accuracy: 7.5081\n",
      "Epoch 250, train_sat: 0.7239, test_sat: 0.7253, train_accuracy: 8.8028, test_accuracy: 7.4300\n",
      "Epoch 300, train_sat: 0.7258, test_sat: 0.7279, train_accuracy: 8.7740, test_accuracy: 7.3895\n",
      "Epoch 350, train_sat: 0.7268, test_sat: 0.7295, train_accuracy: 8.7607, test_accuracy: 7.3681\n",
      "Epoch 400, train_sat: 0.7274, test_sat: 0.7304, train_accuracy: 8.7539, test_accuracy: 7.3598\n",
      "Epoch 450, train_sat: 0.7278, test_sat: 0.7311, train_accuracy: 8.7477, test_accuracy: 7.3545\n",
      "Epoch 500, train_sat: 0.7281, test_sat: 0.7315, train_accuracy: 8.7414, test_accuracy: 7.3495\n",
      "Epoch 550, train_sat: 0.7284, test_sat: 0.7319, train_accuracy: 8.7346, test_accuracy: 7.3444\n",
      "Epoch 600, train_sat: 0.7286, test_sat: 0.7321, train_accuracy: 8.7276, test_accuracy: 7.3402\n",
      "Epoch 650, train_sat: 0.7289, test_sat: 0.7323, train_accuracy: 8.7205, test_accuracy: 7.3361\n",
      "Epoch 700, train_sat: 0.7291, test_sat: 0.7325, train_accuracy: 8.7135, test_accuracy: 7.3324\n",
      "Epoch 750, train_sat: 0.7293, test_sat: 0.7326, train_accuracy: 8.7066, test_accuracy: 7.3292\n",
      "Epoch 800, train_sat: 0.7295, test_sat: 0.7328, train_accuracy: 8.7010, test_accuracy: 7.3244\n",
      "Epoch 850, train_sat: 0.7297, test_sat: 0.7329, train_accuracy: 8.6957, test_accuracy: 7.3205\n",
      "Epoch 900, train_sat: 0.7299, test_sat: 0.7331, train_accuracy: 8.6905, test_accuracy: 7.3168\n",
      "Epoch 950, train_sat: 0.7301, test_sat: 0.7332, train_accuracy: 8.6855, test_accuracy: 7.3132\n"
     ]
    }
   ],
   "source": [
    "import commons\n",
    "\n",
    "EPOCHS = 1000\n",
    "\n",
    "commons.train(\n",
    "    EPOCHS,\n",
    "    metrics_dict,\n",
    "    ds_train,\n",
    "    ds_test,\n",
    "    train_step,\n",
    "    test_step,\n",
    "    csv_path=\"regression_results.csv\",\n",
    "    track_metrics=50\n",
    ")"
   ]
  },
  {
   "cell_type": "code",
   "execution_count": 12,
   "metadata": {},
   "outputs": [],
   "source": [
    "import seaborn as sns\n",
    "sns.set(font_scale=1.2)"
   ]
  },
  {
   "cell_type": "code",
   "execution_count": 13,
   "metadata": {},
   "outputs": [
    {
     "data": {
      "image/png": "[encoded data removed]",
      "text/plain": [
       "<Figure size 720x360 with 2 Axes>"
      ]
     },
     "metadata": {},
     "output_type": "display_data"
    }
   ],
   "source": [
    "\n",
    "\n",
    "fig, axs = plt.subplots(1,2,figsize=(10,5))\n",
    "ax = axs[0]\n",
    "data = {'y_pred':[],'y_true':[]}\n",
    "for x,y in ds_train:\n",
    "    data['y_pred'].extend(f.model(x)[:,0].numpy())\n",
    "    data['y_true'].extend(y[:,0].numpy())\n",
    "df = pd.DataFrame(data,columns=['y_pred','y_true'])\n",
    "ax.set_xlim(0,80)\n",
    "ax.set_ylim(0,80)\n",
    "sns.regplot(\"y_true\",\"y_pred\",data=df,ax=ax,truncate=False,\n",
    "            scatter_kws={'alpha':0.5},line_kws={'color':'r','alpha':0.3,'linestyle':'--','linewidth':2})\n",
    "ax.plot([0,100],[0,100],color=\"gray\",linestyle=\"--\")\n",
    "ax.set_xlabel(\"Actual y values\")\n",
    "ax.set_ylabel(\"Fitted y values\")\n",
    "ax.set_title(\"Training Data\")\n",
    "\n",
    "ax = axs[1]\n",
    "data = {'y_pred':[],'y_true':[]}\n",
    "for x,y in ds_test:\n",
    "    data['y_pred'].extend(f.model(x)[:,0].numpy())\n",
    "    data['y_true'].extend(y[:,0].numpy())\n",
    "df = pd.DataFrame(data,columns=['y_pred','y_true'])\n",
    "ax.set_ylim(0,80)\n",
    "ax.set_xlim(0,80)\n",
    "sns.regplot(\"y_true\",\"y_pred\",data=df,ax=ax,truncate=False,\n",
    "            scatter_kws={'alpha':0.5},line_kws={'color':'r','alpha':0.3,'linestyle':'--','linewidth':2})\n",
    "ax.plot([0,100],[0,100],color=\"gray\",linestyle=\"--\")\n",
    "ax.set_xlabel(\"Actual y values\")\n",
    "ax.set_ylabel(\"Fitted y values\")\n",
    "ax.set_title(\"Test Data\")\n",
    "plt.tight_layout()\n",
    "#plt.savefig(\"ex_regression.pdf\")"
   ]
  },
  {
   "cell_type": "code",
   "execution_count": null,
   "metadata": {},
   "outputs": [],
   "source": []
  }
 ],
 "metadata": {
  "kernelspec": {
   "display_name": "env-tf2",
   "language": "python",
   "name": "env-tf2"
  },
  "language_info": {
   "codemirror_mode": {
    "name": "ipython",
    "version": 3
   },
   "file_extension": ".py",
   "mimetype": "text/x-python",
   "name": "python",
   "nbconvert_exporter": "python",
   "pygments_lexer": "ipython3",
   "version": "3.8.6"
  }
 },
 "nbformat": 4,
 "nbformat_minor": 4
}
