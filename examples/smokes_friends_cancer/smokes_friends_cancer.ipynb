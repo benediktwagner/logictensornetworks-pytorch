{
 "cells": [
  {
   "cell_type": "markdown",
   "metadata": {},
   "source": [
    "# Smokes Friends Cancer\n",
    "\n",
    "A classic example of Statistical Relational Learning is the  smokers-friends-cancer example introduced in the [Markov Logic Networks paper (2006)](https://homes.cs.washington.edu/~pedrod/papers/mlj05.pdf).\n",
    "\n",
    "There are 14 people divided into two groups $\\{a,b,\\dots,h\\}$ and $\\{i,j,\\dots,n\\}$. \n",
    "- Within each group, there is complete knowledge about smoking habits. \n",
    "- In the first group, there is complete knowledge about who has and who does not have cancer. \n",
    "- Knowledge about the friendship relation is complete within each group only if symmetry is assumed, that is, $\\forall x,y \\ (friends(x,y) \\rightarrow friends(y,x))$. Otherwise, knowledge about friendship is incomplete in that it may be known that e.g.\\ $a$ is a friend of $b$, and it may be not known whether $b$ is a friend of $a$.\n",
    "- Finally, there is general knowledge about smoking, friendship and cancer, namely that smoking causes cancer, friendship is normally symmetric and anti-reflexive, everyone has a friend, and smoking propagates (actively or passively) among friends. \n",
    "\n",
    "One can formulate this task easily in LTN as follows."
   ]
  },
  {
   "cell_type": "code",
   "execution_count": 1,
   "metadata": {},
   "outputs": [],
   "source": [
    "import logging; logging.basicConfig(level=logging.INFO)\n",
    "import pdb\n",
    "\n",
    "import tensorflow as tf\n",
    "import numpy as np\n",
    "import math\n",
    "import matplotlib.pyplot as plt\n",
    "import pandas as pd\n",
    "import logictensornetworks as ltn"
   ]
  },
  {
   "cell_type": "code",
   "execution_count": 2,
   "metadata": {},
   "outputs": [],
   "source": [
    "np.set_printoptions(suppress=True)"
   ]
  },
  {
   "cell_type": "code",
   "execution_count": 3,
   "metadata": {},
   "outputs": [],
   "source": [
    "pd.options.display.max_rows=999\n",
    "pd.options.display.max_columns=999\n",
    "pd.set_option('display.width',1000)\n",
    "pd.options.display.float_format = '{:,.2f}'.format\n",
    "\n",
    "def plt_heatmap(df, vmin=None, vmax=None):\n",
    "    plt.pcolor(df, vmin=vmin, vmax=vmax)\n",
    "    plt.yticks(np.arange(0.5,len(df.index),1),df.index)\n",
    "    plt.xticks(np.arange(0.5,len(df.columns),1),df.columns)\n",
    "    plt.colorbar()\n",
    "    \n",
    "pd.set_option('precision',2)"
   ]
  },
  {
   "cell_type": "markdown",
   "metadata": {},
   "source": [
    "# Language\n",
    "\n",
    "- LTN constants are used to denote the individuals. Each is grounded as a trainable embedding.\n",
    "- The `Smokes`, `Friends`, `Cancer` predicates are grounded as simple MLPs.\n",
    "- All the rules in the preamble are formulate in the knowledgebase."
   ]
  },
  {
   "cell_type": "code",
   "execution_count": 4,
   "metadata": {},
   "outputs": [],
   "source": [
    "embedding_size = 5\n",
    "\n",
    "g1 = {l:ltn.constant(np.random.uniform(low=0.0,high=1.0,size=embedding_size),trainable=True) for l in 'abcdefgh'}\n",
    "g2 = {l:ltn.constant(np.random.uniform(low=0.0,high=1.0,size=embedding_size),trainable=True) for l in 'ijklmn'}\n",
    "g = {**g1,**g2}"
   ]
  },
  {
   "cell_type": "code",
   "execution_count": 5,
   "metadata": {},
   "outputs": [],
   "source": [
    "Smokes = ltn.Predicate.MLP([embedding_size],hidden_layer_sizes=(8,8))\n",
    "Friends = ltn.Predicate.MLP([embedding_size,embedding_size],hidden_layer_sizes=(8,8))\n",
    "Cancer = ltn.Predicate.MLP([embedding_size],hidden_layer_sizes=(8,8))"
   ]
  },
  {
   "cell_type": "code",
   "execution_count": 6,
   "metadata": {},
   "outputs": [],
   "source": [
    "friends = [('a','b'),('a','e'),('a','f'),('a','g'),('b','c'),('c','d'),('e','f'),('g','h'),\n",
    "           ('i','j'),('j','m'),('k','l'),('m','n')]\n",
    "smokes = ['a','e','f','g','j','n']\n",
    "cancer = ['a','e']"
   ]
  },
  {
   "cell_type": "code",
   "execution_count": 7,
   "metadata": {},
   "outputs": [],
   "source": [
    "Not = ltn.Wrapper_Connective(ltn.fuzzy_ops.Not_Std())\n",
    "And = ltn.Wrapper_Connective(ltn.fuzzy_ops.And_Prod())\n",
    "Or = ltn.Wrapper_Connective(ltn.fuzzy_ops.Or_ProbSum())\n",
    "Implies = ltn.Wrapper_Connective(ltn.fuzzy_ops.Implies_Reichenbach())\n",
    "Forall = ltn.Wrapper_Quantifier(ltn.fuzzy_ops.Aggreg_pMeanError(p=2),semantics=\"forall\")\n",
    "Exists = ltn.Wrapper_Quantifier(ltn.fuzzy_ops.Aggreg_pMean(p=6),semantics=\"exists\")\n",
    "\n",
    "formula_aggregator = ltn.fuzzy_ops.Aggreg_pMeanError()"
   ]
  },
  {
   "cell_type": "markdown",
   "metadata": {},
   "source": [
    "Notice that the knowledge-base is not satisfiable in the strict logical sense of the word.\n",
    "For instance, the individual $f$ is said to smoke but not to have cancer, which is inconsistent with the rule $\\forall x \\ (S(x) \\rightarrow C(x))$.\n",
    "Hence, it is important to adopt a probabilistic approach as done with MLN or a many-valued fuzzy logic interpretation as done with LTN."
   ]
  },
  {
   "cell_type": "code",
   "execution_count": 8,
   "metadata": {},
   "outputs": [],
   "source": [
    "# defining the theory\n",
    "@tf.function\n",
    "def axioms(p_exists):\n",
    "    \"\"\"\n",
    "    NOTE: we update the embeddings at each step\n",
    "        -> we should re-compute the variables.\n",
    "    \"\"\"\n",
    "    p = ltn.variable(\"p\",tf.stack(list(g.values())))\n",
    "    q = ltn.variable(\"q\",tf.stack(list(g.values())))\n",
    "    axioms = []\n",
    "    # Friends: knowledge incomplete in that\n",
    "    #     Friend(x,y) with x<y may be known\n",
    "    #     but Friend(y,x) may not be known\n",
    "\n",
    "    axioms.append(formula_aggregator(tf.stack(\n",
    "            [Friends([g[x],g[y]]) for (x,y) in friends])))\n",
    "    axioms.append(formula_aggregator(tf.stack(\n",
    "            [Not(Friends([g[x],g[y]])) for x in g1 for y in g1 if (x,y) not in friends and x<y ]+\\\n",
    "            [Not(Friends([g[x],g[y]])) for x in g2 for y in g2 if (x,y) not in friends and x<y ])))\n",
    "    # Smokes: knowledge complete\n",
    "    axioms.append(formula_aggregator(tf.stack(\n",
    "            [Smokes(g[x]) for x in smokes])))\n",
    "    axioms.append(formula_aggregator(tf.stack(\n",
    "            [Not(Smokes(g[x])) for x in g if x not in smokes])))\n",
    "    # Cancer: knowledge complete in g1 only\n",
    "    axioms.append(formula_aggregator(tf.stack(\n",
    "            [Cancer(g[x]) for x in cancer])))\n",
    "    axioms.append(formula_aggregator(tf.stack(\n",
    "            [Not(Cancer(g[x])) for x in g1 if x not in cancer])))\n",
    "    # friendship is anti-reflexive\n",
    "    axioms.append(Forall(p,Not(Friends([p,p])),p=5))\n",
    "    # friendship is symmetric\n",
    "    axioms.append(Forall((p,q),Implies(Friends([p,q]),Friends([q,p])),p=5))\n",
    "    # everyone has a friend\n",
    "    axioms.append(Forall(p,Exists(q,Friends([p,q]),p=p_exists)))\n",
    "    # smoking propagates among friends\n",
    "    axioms.append(Forall((p,q),Implies(And(Friends([p,q]),Smokes(p)),Smokes(q))))\n",
    "    # smoking causes cancer + not smoking causes not cancer\n",
    "    axioms.append(Forall(p,Implies(Smokes(p),Cancer(p))))\n",
    "    axioms.append(Forall(p,Implies(Not(Smokes(p)),Not(Cancer(p)))))\n",
    "    # computing sat_level\n",
    "    axioms = tf.stack([tf.squeeze(ax) for ax in axioms])\n",
    "    sat_level = formula_aggregator(axioms)\n",
    "    return sat_level, axioms"
   ]
  },
  {
   "cell_type": "code",
   "execution_count": 9,
   "metadata": {},
   "outputs": [
    {
     "data": {
      "text/plain": [
       "(<tf.Tensor: shape=(), dtype=float32, numpy=0.56915474>,\n",
       " <tf.Tensor: shape=(12,), dtype=float32, numpy=\n",
       " array([0.424155  , 0.5783354 , 0.58125436, 0.3975066 , 0.5863126 ,\n",
       "        0.45570952, 0.58140635, 0.7538057 , 0.41557145, 0.8994827 ,\n",
       "        0.72890365, 0.7744076 ], dtype=float32)>)"
      ]
     },
     "execution_count": 9,
     "metadata": {},
     "output_type": "execute_result"
    }
   ],
   "source": [
    "axioms(p_exists=tf.constant(1.))"
   ]
  },
  {
   "cell_type": "markdown",
   "metadata": {},
   "source": [
    "# Training"
   ]
  },
  {
   "cell_type": "code",
   "execution_count": 10,
   "metadata": {},
   "outputs": [
    {
     "name": "stdout",
     "output_type": "stream",
     "text": [
      "Epoch 0: Sat Level 0.570\n",
      "Epoch 200: Sat Level 0.684\n",
      "Epoch 400: Sat Level 0.764\n",
      "Epoch 600: Sat Level 0.822\n",
      "Epoch 800: Sat Level 0.838\n",
      "Epoch 1000: Sat Level 0.846\n",
      "Epoch 1200: Sat Level 0.863\n",
      "Epoch 1400: Sat Level 0.875\n",
      "Epoch 1600: Sat Level 0.876\n",
      "Epoch 1800: Sat Level 0.876\n",
      "Training finished at Epoch 1999 with Sat Level 0.876\n"
     ]
    }
   ],
   "source": [
    "trainable_variables = \\\n",
    "        Smokes.trainable_variables \\\n",
    "        + Friends.trainable_variables \\\n",
    "        + Cancer.trainable_variables \\\n",
    "        + list(g.values())\n",
    "optimizer = tf.keras.optimizers.Adam(learning_rate=0.001)\n",
    "\n",
    "for epoch in range(2000):\n",
    "    if 0 <= epoch < 400:\n",
    "        p_exists = tf.constant(1.)\n",
    "    else:\n",
    "        p_exists = tf.constant(6.)\n",
    "    with tf.GradientTape() as tape:\n",
    "        loss_value = 1. - axioms(p_exists=p_exists)[0]\n",
    "    grads = tape.gradient(loss_value, trainable_variables)\n",
    "    optimizer.apply_gradients(zip(grads, trainable_variables))\n",
    "    if epoch%200 == 0:\n",
    "        print(\"Epoch %d: Sat Level %.3f\"%(epoch, axioms(p_exists=p_exists)[0]))\n",
    "print(\"Training finished at Epoch %d with Sat Level %.3f\"%(epoch, axioms(p_exists=p_exists)[0]))"
   ]
  },
  {
   "cell_type": "markdown",
   "metadata": {},
   "source": [
    "# Results\n"
   ]
  },
  {
   "cell_type": "code",
   "execution_count": 11,
   "metadata": {},
   "outputs": [],
   "source": [
    "df_smokes_cancer_facts = pd.DataFrame(\n",
    "        np.array([[(x in smokes), (x in cancer) if x in g1 else math.nan] for x in g]),\n",
    "        columns=[\"Smokes\",\"Cancer\"],\n",
    "        index=list('abcdefghijklmn'))\n",
    "df_friends_ah_facts = pd.DataFrame(\n",
    "        np.array([[((x,y) in friends) if x<y else math.nan for x in g1] for y in g1]),\n",
    "        index = list('abcdefgh'),\n",
    "        columns = list('abcdefgh'))\n",
    "df_friends_in_facts = pd.DataFrame(\n",
    "        np.array([[((x,y) in friends) if x<y else math.nan for x in g2] for y in g2]),\n",
    "        index = list('ijklmn'),\n",
    "        columns = list('ijklmn'))\n",
    "\n",
    "p = ltn.variable(\"p\",tf.stack(list(g.values())))\n",
    "q = ltn.variable(\"q\",tf.stack(list(g.values())))\n",
    "df_smokes_cancer = pd.DataFrame(\n",
    "        tf.stack([Smokes(p),Cancer(p)],axis=1).numpy(),\n",
    "        columns=[\"Smokes\",\"Cancer\"],\n",
    "        index=list('abcdefghijklmn'))\n",
    "\n",
    "pred_friends = tf.squeeze(Friends([p,q]))\n",
    "df_friends_ah = pd.DataFrame(\n",
    "        pred_friends[:8,:8].numpy(),\n",
    "        index=list('abcdefgh'),\n",
    "        columns=list('abcdefgh'))\n",
    "df_friends_in = pd.DataFrame(\n",
    "        pred_friends[8:,8:].numpy(),\n",
    "        index=list('ijklmn'),\n",
    "        columns=list('ijklmn'))"
   ]
  },
  {
   "cell_type": "code",
   "execution_count": 12,
   "metadata": {},
   "outputs": [],
   "source": [
    "plt.rcParams['font.size'] = 12\n",
    "plt.rcParams['axes.linewidth'] = 1"
   ]
  },
  {
   "cell_type": "markdown",
   "metadata": {},
   "source": [
    "Incomplete facts in the knowledge-base: axioms for smokers for individuals $a$ to $n$ and for cancer for individuals $a$ to $h$ (left), friendship relations in group 1 (middle), and friendship relations in group 2 (right)."
   ]
  },
  {
   "cell_type": "code",
   "execution_count": 13,
   "metadata": {},
   "outputs": [
    {
     "data": {
      "image/png": "[encoded data removed]",
      "text/plain": [
       "<Figure size 864x216 with 6 Axes>"
      ]
     },
     "metadata": {
      "needs_background": "light"
     },
     "output_type": "display_data"
    }
   ],
   "source": [
    "plt.figure(figsize=(12,3))\n",
    "plt.subplot(131)\n",
    "plt_heatmap(df_smokes_cancer_facts, vmin=0, vmax=1)\n",
    "plt.subplot(132)\n",
    "plt.title(\"Friend(x,y) in Group 1\")\n",
    "plt_heatmap(df_friends_ah_facts, vmin=0, vmax=1)\n",
    "plt.subplot(133)\n",
    "plt.title(\"Friend(x,y) in Group 2\")\n",
    "plt_heatmap(df_friends_in_facts, vmin=0, vmax=1)\n",
    "#plt.savefig('ex_smokes_givenfacts.pdf')\n",
    "plt.show()"
   ]
  },
  {
   "cell_type": "markdown",
   "metadata": {},
   "source": [
    "Querying all the truth-values using LTN after training: smokers and cancer (left), friendship relations (middle and right)."
   ]
  },
  {
   "cell_type": "code",
   "execution_count": 14,
   "metadata": {},
   "outputs": [
    {
     "data": {
      "image/png": "[encoded data removed]",
      "text/plain": [
       "<Figure size 864x216 with 6 Axes>"
      ]
     },
     "metadata": {
      "needs_background": "light"
     },
     "output_type": "display_data"
    }
   ],
   "source": [
    "plt.figure(figsize=(12,3))\n",
    "plt.subplot(131)\n",
    "plt_heatmap(df_smokes_cancer, vmin=0, vmax=1)\n",
    "plt.subplot(132)\n",
    "plt.title(\"Friend(x,y) in Group 1\")\n",
    "plt_heatmap(df_friends_ah, vmin=0, vmax=1)\n",
    "plt.subplot(133)\n",
    "plt.title(\"Friend(x,y) in Group 2\")\n",
    "plt_heatmap(df_friends_in, vmin=0, vmax=1)\n",
    "#plt.savefig('ex_smokes_inferfacts.pdf')\n",
    "plt.show()"
   ]
  },
  {
   "cell_type": "markdown",
   "metadata": {},
   "source": [
    "Satisfiability of the axioms."
   ]
  },
  {
   "cell_type": "code",
   "execution_count": 15,
   "metadata": {},
   "outputs": [
    {
     "name": "stdout",
     "output_type": "stream",
     "text": [
      "forall p: ~Friends(p,p) : 1.00\n",
      "forall p,q: Friends(p,q) -> Friends(q,p) : 0.99\n",
      "forall p: exists q: Friends(p,q) : 0.78\n",
      "forall p,q: Friends(p,q) -> (Smokes(p)->Smokes(q)) : 0.79\n",
      "forall p: Smokes(p) -> Cancer(p) : 0.76\n"
     ]
    }
   ],
   "source": [
    "print(\"forall p: ~Friends(p,p) : %.2f\" % Forall(p,Not(Friends([p,p]))))\n",
    "print(\"forall p,q: Friends(p,q) -> Friends(q,p) : %.2f\" % Forall((p,q),Implies(Friends([p,q]),Friends([q,p]))))\n",
    "print(\"forall p: exists q: Friends(p,q) : %.2f\" % Forall(p,Exists(q,Friends([p,q]))))\n",
    "print(\"forall p,q: Friends(p,q) -> (Smokes(p)->Smokes(q)) : %.2f\" % Forall((p,q),Implies(Friends([p,q]),Implies(Smokes(p),Smokes(q)))))\n",
    "print(\"forall p: Smokes(p) -> Cancer(p) : %.2f\" % Forall(p,Implies(Smokes(p),Cancer(p))))"
   ]
  },
  {
   "cell_type": "markdown",
   "metadata": {},
   "source": [
    "We can query unknown formulas."
   ]
  },
  {
   "cell_type": "code",
   "execution_count": 16,
   "metadata": {},
   "outputs": [
    {
     "name": "stdout",
     "output_type": "stream",
     "text": [
      "forall p: Cancer(p) -> Smokes(p): 0.96\n",
      "forall p,q: (Cancer(p) or Cancer(q)) -> Friends(p,q): 0.21\n"
     ]
    }
   ],
   "source": [
    "print(\"forall p: Cancer(p) -> Smokes(p): %.2f\" % Forall(p,Implies(Cancer(p),Smokes(p)),p=5))\n",
    "print(\"forall p,q: (Cancer(p) or Cancer(q)) -> Friends(p,q): %.2f\" % Forall((p,q), Implies(Or(Cancer(p),Cancer(q)),Friends([p,q])),p=5))"
   ]
  },
  {
   "cell_type": "markdown",
   "metadata": {},
   "source": [
    "# Visualize the embeddings"
   ]
  },
  {
   "cell_type": "code",
   "execution_count": 17,
   "metadata": {},
   "outputs": [],
   "source": [
    "from sklearn.preprocessing import StandardScaler\n",
    "from sklearn.decomposition import PCA"
   ]
  },
  {
   "cell_type": "code",
   "execution_count": 18,
   "metadata": {},
   "outputs": [],
   "source": [
    "x = [v.numpy() for v in g.values()]\n",
    "x_norm = StandardScaler().fit_transform(x)"
   ]
  },
  {
   "cell_type": "code",
   "execution_count": 19,
   "metadata": {},
   "outputs": [],
   "source": [
    "pca = PCA(n_components=2)\n",
    "pca_transformed = pca.fit_transform(x_norm)"
   ]
  },
  {
   "cell_type": "code",
   "execution_count": 20,
   "metadata": {},
   "outputs": [],
   "source": [
    "var_x = ltn.variable(\"x\",x)\n",
    "var_x1 = ltn.variable(\"x1\",x)\n",
    "var_x2 = ltn.variable(\"x2\",x)"
   ]
  },
  {
   "cell_type": "code",
   "execution_count": 21,
   "metadata": {},
   "outputs": [
    {
     "data": {
      "image/png": "[encoded data removed]",
      "text/plain": [
       "<Figure size 576x360 with 6 Axes>"
      ]
     },
     "metadata": {
      "needs_background": "light"
     },
     "output_type": "display_data"
    }
   ],
   "source": [
    "plt.figure(figsize=(8,5))\n",
    "plt.subplot(221)\n",
    "plt.scatter(pca_transformed[:len(g1.values()),0],pca_transformed[:len(g1.values()),1],label=\"Group 1\")\n",
    "plt.scatter(pca_transformed[len(g1.values()):,0],pca_transformed[len(g1.values()):,1],label=\"Group 2\")\n",
    "names = list(g.keys())\n",
    "for i in range(len(names)):\n",
    "    plt.annotate(names[i].upper(),pca_transformed[i])\n",
    "plt.title(\"Embeddings\")\n",
    "plt.legend()\n",
    "\n",
    "plt.subplot(222)\n",
    "plt.scatter(pca_transformed[:,0],pca_transformed[:,1],c=Smokes(var_x))\n",
    "plt.title(\"Smokes\")\n",
    "plt.colorbar()\n",
    "\n",
    "plt.subplot(224)\n",
    "plt.scatter(pca_transformed[:,0],pca_transformed[:,1],c=Cancer(var_x))\n",
    "plt.title(\"Cancer\")\n",
    "plt.colorbar()\n",
    "\n",
    "plt.subplot(223)\n",
    "plt.scatter(pca_transformed[:len(g1.values()),0],pca_transformed[:len(g1.values()),1],label=\"Group 1\")\n",
    "plt.scatter(pca_transformed[len(g1.values()):,0],pca_transformed[len(g1.values()):,1],label=\"Group 2\")\n",
    "res = Friends([var_x1,var_x2]).numpy()\n",
    "for i1 in range(len(x)):\n",
    "    for i2 in range(i1,len(x)):\n",
    "        if (names[i1] in g1 and names[i2] in g2) \\\n",
    "            or (names[i1] in g2 and names[i2] in g1):\n",
    "            continue\n",
    "        plt.plot(\n",
    "            [pca_transformed[i1,0],pca_transformed[i2,0]],\n",
    "            [pca_transformed[i1,1],pca_transformed[i2,1]],\n",
    "            alpha=res[i1,i2],c=\"black\")\n",
    "plt.title(\"Friendships per group\")\n",
    "plt.tight_layout()\n",
    "#plt.savefig(\"ex_smokes_embeddings.pdf\")"
   ]
  },
  {
   "cell_type": "code",
   "execution_count": null,
   "metadata": {},
   "outputs": [],
   "source": []
  }
 ],
 "metadata": {
  "kernelspec": {
   "display_name": "env-tf2",
   "language": "python",
   "name": "env-tf2"
  },
  "language_info": {
   "codemirror_mode": {
    "name": "ipython",
    "version": 3
   },
   "file_extension": ".py",
   "mimetype": "text/x-python",
   "name": "python",
   "nbconvert_exporter": "python",
   "pygments_lexer": "ipython3",
   "version": "3.8.6"
  }
 },
 "nbformat": 4,
 "nbformat_minor": 4
}
