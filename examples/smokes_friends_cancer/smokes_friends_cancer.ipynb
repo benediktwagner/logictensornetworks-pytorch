{
 "cells": [
  {
   "cell_type": "markdown",
   "metadata": {},
   "source": [
    "# Smokes Friends Cancer\n",
    "\n",
    "A classic example of Statistical Relational Learning is the  smokers-friends-cancer example introduced in the [Markov Logic Networks paper (2006)](https://homes.cs.washington.edu/~pedrod/papers/mlj05.pdf).\n",
    "\n",
    "There are 14 people divided into two groups $\\{a,b,\\dots,h\\}$ and $\\{i,j,\\dots,n\\}$. \n",
    "- Within each group, there is complete knowledge about smoking habits. \n",
    "- In the first group, there is complete knowledge about who has and who does not have cancer. \n",
    "- Knowledge about the friendship relation is complete within each group only if symmetry is assumed, that is, $\\forall x,y \\ (friends(x,y) \\rightarrow friends(y,x))$. Otherwise, knowledge about friendship is incomplete in that it may be known that e.g.\\ $a$ is a friend of $b$, and it may be not known whether $b$ is a friend of $a$.\n",
    "- Finally, there is general knowledge about smoking, friendship and cancer, namely that smoking causes cancer, friendship is normally symmetric and anti-reflexive, everyone has a friend, and smoking propagates (actively or passively) among friends. \n",
    "\n",
    "One can formulate this task easily in LTN as follows."
   ]
  },
  {
   "cell_type": "code",
   "execution_count": 80,
   "metadata": {},
   "outputs": [],
   "source": [
    "import logging; logging.basicConfig(level=logging.INFO)\n",
    "import pdb\n",
    "\n",
    "import torch\n",
    "from torch.optim import Adam\n",
    "import numpy as np\n",
    "import math\n",
    "import matplotlib.pyplot as plt\n",
    "import pandas as pd\n",
    "import logictensornetworks as ltn"
   ]
  },
  {
   "cell_type": "code",
   "execution_count": 81,
   "metadata": {},
   "outputs": [],
   "source": [
    "np.set_printoptions(suppress=True)"
   ]
  },
  {
   "cell_type": "code",
   "execution_count": 82,
   "metadata": {},
   "outputs": [],
   "source": [
    "pd.options.display.max_rows=999\n",
    "pd.options.display.max_columns=999\n",
    "pd.set_option('display.width',1000)\n",
    "pd.options.display.float_format = '{:,.2f}'.format\n",
    "\n",
    "def plt_heatmap(df, vmin=None, vmax=None):\n",
    "    plt.pcolor(df, vmin=vmin, vmax=vmax)\n",
    "    plt.yticks(np.arange(0.5,len(df.index),1),df.index)\n",
    "    plt.xticks(np.arange(0.5,len(df.columns),1),df.columns)\n",
    "    plt.colorbar()\n",
    "    \n",
    "pd.set_option('precision',2)"
   ]
  },
  {
   "cell_type": "markdown",
   "metadata": {},
   "source": [
    "# Language\n",
    "\n",
    "- LTN constants are used to denote the individuals. Each is grounded as a trainable embedding.\n",
    "- The `Smokes`, `Friends`, `Cancer` predicates are grounded as simple MLPs.\n",
    "- All the rules in the preamble are formulate in the knowledgebase."
   ]
  },
  {
   "cell_type": "code",
   "execution_count": 83,
   "metadata": {},
   "outputs": [],
   "source": [
    "embedding_size = 5\n",
    "\n",
    "g1 = {l:ltn.constant(np.random.uniform(low=0.0,high=1.0,size=embedding_size),trainable=True) for l in 'abcdefgh'}\n",
    "g2 = {l:ltn.constant(np.random.uniform(low=0.0,high=1.0,size=embedding_size),trainable=True) for l in 'ijklmn'}\n",
    "g = {**g1,**g2}"
   ]
  },
  {
   "cell_type": "code",
   "execution_count": 84,
   "metadata": {},
   "outputs": [],
   "source": [
    "Smokes = ltn.Predicate.MLP([embedding_size],hidden_layer_sizes=(8,8))\n",
    "Friends = ltn.Predicate.MLP([embedding_size,embedding_size],hidden_layer_sizes=(8,8))\n",
    "Cancer = ltn.Predicate.MLP([embedding_size],hidden_layer_sizes=(8,8))"
   ]
  },
  {
   "cell_type": "code",
   "execution_count": 85,
   "metadata": {},
   "outputs": [],
   "source": [
    "friends = [('a','b'),('a','e'),('a','f'),('a','g'),('b','c'),('c','d'),('e','f'),('g','h'),\n",
    "           ('i','j'),('j','m'),('k','l'),('m','n')]\n",
    "smokes = ['a','e','f','g','j','n']\n",
    "cancer = ['a','e']"
   ]
  },
  {
   "cell_type": "code",
   "execution_count": 86,
   "metadata": {},
   "outputs": [],
   "source": [
    "Not = ltn.Wrapper_Connective(ltn.fuzzy_ops.Not_Std())\n",
    "And = ltn.Wrapper_Connective(ltn.fuzzy_ops.And_Prod())\n",
    "Or = ltn.Wrapper_Connective(ltn.fuzzy_ops.Or_ProbSum())\n",
    "Implies = ltn.Wrapper_Connective(ltn.fuzzy_ops.Implies_Reichenbach())\n",
    "Forall = ltn.Wrapper_Quantifier(ltn.fuzzy_ops.Aggreg_pMeanError(p=2),semantics=\"forall\")\n",
    "Exists = ltn.Wrapper_Quantifier(ltn.fuzzy_ops.Aggreg_pMean(p=6),semantics=\"exists\")\n",
    "\n",
    "formula_aggregator = ltn.fuzzy_ops.Aggreg_pMeanError()"
   ]
  },
  {
   "cell_type": "markdown",
   "metadata": {},
   "source": [
    "Notice that the knowledge-base is not satisfiable in the strict logical sense of the word.\n",
    "For instance, the individual $f$ is said to smoke but not to have cancer, which is inconsistent with the rule $\\forall x \\ (S(x) \\rightarrow C(x))$.\n",
    "Hence, it is important to adopt a probabilistic approach as done with MLN or a many-valued fuzzy logic interpretation as done with LTN."
   ]
  },
  {
   "cell_type": "code",
   "execution_count": 87,
   "metadata": {},
   "outputs": [],
   "source": [
    "# defining the theory\n",
    "def axioms(p_exists):\n",
    "    \"\"\"\n",
    "    NOTE: we update the embeddings at each step\n",
    "        -> we should re-compute the variables.\n",
    "    \"\"\"\n",
    "    p = ltn.variable(\"p\",torch.stack(list(g.values())))\n",
    "    q = ltn.variable(\"q\",torch.stack(list(g.values())))\n",
    "    axioms = []\n",
    "    # Friends: knowledge incomplete in that\n",
    "    #     Friend(x,y) with x<y may be known\n",
    "    #     but Friend(y,x) may not be known\n",
    "\n",
    "    axioms.append(formula_aggregator(torch.stack(\n",
    "            [Friends([g[x],g[y]]) for (x,y) in friends]), axis=0))\n",
    "    axioms.append(formula_aggregator(torch.stack(\n",
    "            [Not(Friends([g[x],g[y]])) for x in g1 for y in g1 if (x,y) not in friends and x<y ]+\\\n",
    "            [Not(Friends([g[x],g[y]])) for x in g2 for y in g2 if (x,y) not in friends and x<y ]), axis=0))\n",
    "    # Smokes: knowledge complete\n",
    "    axioms.append(formula_aggregator(torch.stack(\n",
    "            [Smokes(g[x]) for x in smokes]), axis=0))\n",
    "    axioms.append(formula_aggregator(torch.stack(\n",
    "            [Not(Smokes(g[x])) for x in g if x not in smokes]), axis=0))\n",
    "    # Cancer: knowledge complete in g1 only\n",
    "    axioms.append(formula_aggregator(torch.stack(\n",
    "            [Cancer(g[x]) for x in cancer]), axis=0))\n",
    "    axioms.append(formula_aggregator(torch.stack(\n",
    "            [Not(Cancer(g[x])) for x in g1 if x not in cancer]), axis=0))\n",
    "    # friendship is anti-reflexive\n",
    "    axioms.append(Forall(p,Not(Friends([p,p])),p=5))\n",
    "    # friendship is symmetric\n",
    "    axioms.append(Forall((p,q),Implies(Friends([p,q]),Friends([q,p])),p=5))\n",
    "    # everyone has a friend\n",
    "    axioms.append(Forall(p,Exists(q,Friends([p,q]),p=p_exists)))\n",
    "    # smoking propagates among friends\n",
    "    axioms.append(Forall((p,q),Implies(And(Friends([p,q]),Smokes(p)),Smokes(q))))\n",
    "    # smoking causes cancer + not smoking causes not cancer\n",
    "    axioms.append(Forall(p,Implies(Smokes(p),Cancer(p))))\n",
    "    axioms.append(Forall(p,Implies(Not(Smokes(p)),Not(Cancer(p)))))\n",
    "    # computing sat_level\n",
    "    axioms = torch.stack([torch.squeeze(ax) for ax in axioms])\n",
    "    sat_level = formula_aggregator(axioms, axis=0)\n",
    "    return sat_level, axioms"
   ]
  },
  {
   "cell_type": "code",
   "execution_count": 88,
   "metadata": {},
   "outputs": [
    {
     "data": {
      "text/plain": "(tensor(0.5689, grad_fn=<RsubBackward1>),\n tensor([0.4764, 0.5252, 0.5974, 0.4010, 0.5747, 0.4230, 0.5244, 0.7502, 0.4749,\n         0.8854, 0.7470, 0.7681], grad_fn=<StackBackward>))"
     },
     "execution_count": 88,
     "metadata": {},
     "output_type": "execute_result"
    }
   ],
   "source": [
    "axioms(p_exists=torch.tensor(1.))"
   ]
  },
  {
   "cell_type": "markdown",
   "metadata": {},
   "source": [
    "# Training"
   ]
  },
  {
   "cell_type": "code",
   "execution_count": 89,
   "metadata": {},
   "outputs": [
    {
     "name": "stdout",
     "output_type": "stream",
     "text": [
      "Epoch 0: Sat Level 0.569\n",
      "Epoch 200: Sat Level 0.687\n",
      "Epoch 400: Sat Level 0.794\n",
      "Epoch 600: Sat Level 0.838\n",
      "Epoch 800: Sat Level 0.846\n",
      "Epoch 1000: Sat Level 0.847\n",
      "Epoch 1200: Sat Level 0.847\n",
      "Epoch 1400: Sat Level 0.847\n",
      "Epoch 1600: Sat Level 0.847\n",
      "Epoch 1800: Sat Level 0.847\n",
      "Training finished at Epoch 1999 with Sat Level 0.847\n"
     ]
    }
   ],
   "source": [
    "trainable_variables = \\\n",
    "        list(Smokes.parameters()) \\\n",
    "        + list(Friends.parameters()) \\\n",
    "        + list(Cancer.parameters()) \\\n",
    "        + list(g.values())\n",
    "optimizer = Adam(trainable_variables, lr=0.001)\n",
    "\n",
    "for epoch in range(2000):\n",
    "    if 0 <= epoch < 400:\n",
    "        p_exists = torch.tensor(1.)\n",
    "    else:\n",
    "        p_exists = torch.tensor(6.)\n",
    "    optimizer.zero_grad()\n",
    "    loss_value = 1. - axioms(p_exists=p_exists)[0]\n",
    "    loss_value.backward()\n",
    "    optimizer.step()\n",
    "    if epoch%200 == 0:\n",
    "        print(\"Epoch %d: Sat Level %.3f\"%(epoch, axioms(p_exists=p_exists)[0]))\n",
    "print(\"Training finished at Epoch %d with Sat Level %.3f\"%(epoch, axioms(p_exists=p_exists)[0]))"
   ]
  },
  {
   "cell_type": "markdown",
   "metadata": {},
   "source": [
    "# Results\n"
   ]
  },
  {
   "cell_type": "code",
   "execution_count": 90,
   "metadata": {},
   "outputs": [],
   "source": [
    "df_smokes_cancer_facts = pd.DataFrame(\n",
    "        np.array([[(x in smokes), (x in cancer) if x in g1 else math.nan] for x in g]),\n",
    "        columns=[\"Smokes\",\"Cancer\"],\n",
    "        index=list('abcdefghijklmn'))\n",
    "df_friends_ah_facts = pd.DataFrame(\n",
    "        np.array([[((x,y) in friends) if x<y else math.nan for x in g1] for y in g1]),\n",
    "        index = list('abcdefgh'),\n",
    "        columns = list('abcdefgh'))\n",
    "df_friends_in_facts = pd.DataFrame(\n",
    "        np.array([[((x,y) in friends) if x<y else math.nan for x in g2] for y in g2]),\n",
    "        index = list('ijklmn'),\n",
    "        columns = list('ijklmn'))\n",
    "\n",
    "p = ltn.variable(\"p\",torch.stack(list(g.values())))\n",
    "q = ltn.variable(\"q\",torch.stack(list(g.values())))\n",
    "df_smokes_cancer = pd.DataFrame(\n",
    "        torch.stack([Smokes(p),Cancer(p)],dim=1).detach().numpy(),\n",
    "        columns=[\"Smokes\",\"Cancer\"],\n",
    "        index=list('abcdefghijklmn'))\n",
    "\n",
    "pred_friends = torch.squeeze(Friends([p,q]))\n",
    "df_friends_ah = pd.DataFrame(\n",
    "        pred_friends[:8,:8].detach().numpy(),\n",
    "        index=list('abcdefgh'),\n",
    "        columns=list('abcdefgh'))\n",
    "df_friends_in = pd.DataFrame(\n",
    "        pred_friends[8:,8:].detach().numpy(),\n",
    "        index=list('ijklmn'),\n",
    "        columns=list('ijklmn'))"
   ]
  },
  {
   "cell_type": "code",
   "execution_count": 91,
   "metadata": {},
   "outputs": [],
   "source": [
    "plt.rcParams['font.size'] = 12\n",
    "plt.rcParams['axes.linewidth'] = 1"
   ]
  },
  {
   "cell_type": "markdown",
   "metadata": {},
   "source": [
    "Incomplete facts in the knowledge-base: axioms for smokers for individuals $a$ to $n$ and for cancer for individuals $a$ to $h$ (left), friendship relations in group 1 (middle), and friendship relations in group 2 (right)."
   ]
  },
  {
   "cell_type": "code",
   "execution_count": 92,
   "metadata": {},
   "outputs": [
    {
     "data": {
      "text/plain": "<Figure size 864x216 with 6 Axes>",
      "image/png": "[encoded data removed]"
     },
     "metadata": {
      "needs_background": "light"
     },
     "output_type": "display_data"
    }
   ],
   "source": [
    "plt.figure(figsize=(12,3))\n",
    "plt.subplot(131)\n",
    "plt_heatmap(df_smokes_cancer_facts, vmin=0, vmax=1)\n",
    "plt.subplot(132)\n",
    "plt.title(\"Friend(x,y) in Group 1\")\n",
    "plt_heatmap(df_friends_ah_facts, vmin=0, vmax=1)\n",
    "plt.subplot(133)\n",
    "plt.title(\"Friend(x,y) in Group 2\")\n",
    "plt_heatmap(df_friends_in_facts, vmin=0, vmax=1)\n",
    "#plt.savefig('ex_smokes_givenfacts.pdf')\n",
    "plt.show()"
   ]
  },
  {
   "cell_type": "markdown",
   "metadata": {},
   "source": [
    "Querying all the truth-values using LTN after training: smokers and cancer (left), friendship relations (middle and right)."
   ]
  },
  {
   "cell_type": "code",
   "execution_count": 93,
   "metadata": {},
   "outputs": [
    {
     "data": {
      "text/plain": "<Figure size 864x216 with 6 Axes>",
      "image/png": "[encoded data removed]"
     },
     "metadata": {
      "needs_background": "light"
     },
     "output_type": "display_data"
    }
   ],
   "source": [
    "plt.figure(figsize=(12,3))\n",
    "plt.subplot(131)\n",
    "plt_heatmap(df_smokes_cancer, vmin=0, vmax=1)\n",
    "plt.subplot(132)\n",
    "plt.title(\"Friend(x,y) in Group 1\")\n",
    "plt_heatmap(df_friends_ah, vmin=0, vmax=1)\n",
    "plt.subplot(133)\n",
    "plt.title(\"Friend(x,y) in Group 2\")\n",
    "plt_heatmap(df_friends_in, vmin=0, vmax=1)\n",
    "#plt.savefig('ex_smokes_inferfacts.pdf')\n",
    "plt.show()"
   ]
  },
  {
   "cell_type": "markdown",
   "metadata": {},
   "source": [
    "Satisfiability of the axioms."
   ]
  },
  {
   "cell_type": "code",
   "execution_count": 94,
   "metadata": {},
   "outputs": [
    {
     "name": "stdout",
     "output_type": "stream",
     "text": [
      "forall p: ~Friends(p,p) : 1.00\n",
      "forall p,q: Friends(p,q) -> Friends(q,p) : 0.94\n",
      "forall p: exists q: Friends(p,q) : 0.80\n",
      "forall p,q: Friends(p,q) -> (Smokes(p)->Smokes(q)) : 0.78\n",
      "forall p: Smokes(p) -> Cancer(p) : 0.77\n"
     ]
    }
   ],
   "source": [
    "print(\"forall p: ~Friends(p,p) : %.2f\" % Forall(p,Not(Friends([p,p]))))\n",
    "print(\"forall p,q: Friends(p,q) -> Friends(q,p) : %.2f\" % Forall((p,q),Implies(Friends([p,q]),Friends([q,p]))))\n",
    "print(\"forall p: exists q: Friends(p,q) : %.2f\" % Forall(p,Exists(q,Friends([p,q]))))\n",
    "print(\"forall p,q: Friends(p,q) -> (Smokes(p)->Smokes(q)) : %.2f\" % Forall((p,q),Implies(Friends([p,q]),Implies(Smokes(p),Smokes(q)))))\n",
    "print(\"forall p: Smokes(p) -> Cancer(p) : %.2f\" % Forall(p,Implies(Smokes(p),Cancer(p))))"
   ]
  },
  {
   "cell_type": "markdown",
   "metadata": {},
   "source": [
    "We can query unknown formulas."
   ]
  },
  {
   "cell_type": "code",
   "execution_count": 95,
   "metadata": {},
   "outputs": [
    {
     "name": "stdout",
     "output_type": "stream",
     "text": [
      "forall p: Cancer(p) -> Smokes(p): 0.96\n",
      "forall p,q: (Cancer(p) or Cancer(q)) -> Friends(p,q): 0.21\n"
     ]
    }
   ],
   "source": [
    "print(\"forall p: Cancer(p) -> Smokes(p): %.2f\" % Forall(p,Implies(Cancer(p),Smokes(p)),p=5))\n",
    "print(\"forall p,q: (Cancer(p) or Cancer(q)) -> Friends(p,q): %.2f\" % Forall((p,q), Implies(Or(Cancer(p),Cancer(q)),Friends([p,q])),p=5))"
   ]
  },
  {
   "cell_type": "markdown",
   "metadata": {},
   "source": [
    "# Visualize the embeddings"
   ]
  },
  {
   "cell_type": "code",
   "execution_count": 96,
   "metadata": {},
   "outputs": [],
   "source": [
    "from sklearn.preprocessing import StandardScaler\n",
    "from sklearn.decomposition import PCA"
   ]
  },
  {
   "cell_type": "code",
   "execution_count": 97,
   "metadata": {},
   "outputs": [],
   "source": [
    "x = [v.squeeze().detach().numpy() for v in g.values()]"
   ]
  },
  {
   "cell_type": "code",
   "execution_count": 98,
   "outputs": [],
   "source": [
    "x_norm = StandardScaler().fit_transform(x)"
   ],
   "metadata": {
    "collapsed": false,
    "pycharm": {
     "name": "#%%\n"
    }
   }
  },
  {
   "cell_type": "code",
   "execution_count": 99,
   "metadata": {},
   "outputs": [],
   "source": [
    "pca = PCA(n_components=2)\n",
    "pca_transformed = pca.fit_transform(x_norm)"
   ]
  },
  {
   "cell_type": "code",
   "execution_count": 100,
   "metadata": {},
   "outputs": [],
   "source": [
    "var_x = ltn.variable(\"x\",torch.stack(list(g.values())))\n",
    "var_x1 = ltn.variable(\"x1\",torch.stack(list(g.values())))\n",
    "var_x2 = ltn.variable(\"x2\",torch.stack(list(g.values())))"
   ]
  },
  {
   "cell_type": "code",
   "execution_count": 101,
   "metadata": {},
   "outputs": [
    {
     "data": {
      "text/plain": "<Figure size 576x360 with 6 Axes>",
      "image/png": "[encoded data removed]"
     },
     "metadata": {
      "needs_background": "light"
     },
     "output_type": "display_data"
    }
   ],
   "source": [
    "plt.figure(figsize=(8,5))\n",
    "plt.subplot(221)\n",
    "plt.scatter(pca_transformed[:len(g1.values()),0],pca_transformed[:len(g1.values()),1],label=\"Group 1\")\n",
    "plt.scatter(pca_transformed[len(g1.values()):,0],pca_transformed[len(g1.values()):,1],label=\"Group 2\")\n",
    "names = list(g.keys())\n",
    "for i in range(len(names)):\n",
    "    plt.annotate(names[i].upper(),pca_transformed[i])\n",
    "plt.title(\"Embeddings\")\n",
    "plt.legend()\n",
    "\n",
    "plt.subplot(222)\n",
    "plt.scatter(pca_transformed[:,0],pca_transformed[:,1],c=Smokes(var_x).detach())\n",
    "plt.title(\"Smokes\")\n",
    "plt.colorbar()\n",
    "\n",
    "plt.subplot(224)\n",
    "plt.scatter(pca_transformed[:,0],pca_transformed[:,1],c=Cancer(var_x).detach())\n",
    "plt.title(\"Cancer\")\n",
    "plt.colorbar()\n",
    "\n",
    "plt.subplot(223)\n",
    "plt.scatter(pca_transformed[:len(g1.values()),0],pca_transformed[:len(g1.values()),1],label=\"Group 1\")\n",
    "plt.scatter(pca_transformed[len(g1.values()):,0],pca_transformed[len(g1.values()):,1],label=\"Group 2\")\n",
    "res = Friends([var_x1,var_x2]).detach().numpy()\n",
    "for i1 in range(len(x)):\n",
    "    for i2 in range(i1,len(x)):\n",
    "        if (names[i1] in g1 and names[i2] in g2) \\\n",
    "            or (names[i1] in g2 and names[i2] in g1):\n",
    "            continue\n",
    "        plt.plot(\n",
    "            [pca_transformed[i1,0],pca_transformed[i2,0]],\n",
    "            [pca_transformed[i1,1],pca_transformed[i2,1]],\n",
    "            alpha=res[i1,i2],c=\"black\")\n",
    "plt.title(\"Friendships per group\")\n",
    "plt.tight_layout()\n",
    "#plt.savefig(\"ex_smokes_embeddings.pdf\")"
   ]
  },
  {
   "cell_type": "code",
   "execution_count": 101,
   "metadata": {},
   "outputs": [],
   "source": []
  }
 ],
 "metadata": {
  "kernelspec": {
   "name": "python3",
   "language": "python",
   "display_name": "Python 3"
  },
  "language_info": {
   "codemirror_mode": {
    "name": "ipython",
    "version": 3
   },
   "file_extension": ".py",
   "mimetype": "text/x-python",
   "name": "python",
   "nbconvert_exporter": "python",
   "pygments_lexer": "ipython3",
   "version": "3.8.6"
  }
 },
 "nbformat": 4,
 "nbformat_minor": 4
}