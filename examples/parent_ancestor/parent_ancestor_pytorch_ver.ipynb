{
 "cells": [
  {
   "cell_type": "code",
   "execution_count": 10,
   "metadata": {},
   "outputs": [],
   "source": [
    "import logging; logging.basicConfig(level=logging.INFO)\n",
    "import torch\n",
    "import numpy as np\n",
    "import logictensornetworks as ltn\n",
    "import networkx as nx\n",
    "import itertools"
   ]
  },
  {
   "cell_type": "markdown",
   "metadata": {},
   "source": [
    "# Data\n",
    "\n",
    "Parent relationships (the knowledge is assumed complete)."
   ]
  },
  {
   "cell_type": "code",
   "execution_count": 11,
   "metadata": {},
   "outputs": [],
   "source": [
    "entities = [\"sue\", \"diana\", \"john\", \"edna\", \"paul\", \"francis\", \"john2\",\n",
    "                \"john3\", \"john4\", \"joe\", \"jennifer\", \"juliet\", \"janice\",\n",
    "                \"joey\", \"tom\", \"bonnie\", \"katie\"]\n",
    "\n",
    "parents = [\n",
    "        (\"sue\", \"diana\"),\n",
    "        (\"john\", \"diana\"),\n",
    "        (\"sue\", \"bonnie\"),\n",
    "        (\"john\", \"bonnie\"),\n",
    "        (\"sue\", \"tom\"),\n",
    "        (\"john\", \"tom\"),\n",
    "        (\"diana\", \"katie\"),\n",
    "        (\"paul\", \"katie\"),\n",
    "        (\"edna\", \"sue\"),\n",
    "        (\"john2\", \"sue\"),\n",
    "        (\"edna\", \"john3\"),\n",
    "        (\"john2\", \"john3\"),\n",
    "        (\"francis\", \"john\"),\n",
    "        (\"john4\", \"john\"),\n",
    "        (\"francis\", \"janice\"),\n",
    "        (\"john4\", \"janice\"),\n",
    "        (\"janice\", \"jennifer\"),\n",
    "        (\"joe\", \"jennifer\"),\n",
    "        (\"janice\", \"juliet\"),\n",
    "        (\"joe\", \"juliet\"),\n",
    "        (\"janice\", \"joey\"),\n",
    "        (\"joe\", \"joey\")]\n",
    "\n",
    "all_relationships = list(itertools.product(entities, repeat=2))\n",
    "not_parents = [item for item in all_relationships if item not in parents]"
   ]
  },
  {
   "cell_type": "markdown",
   "metadata": {},
   "source": [
    "Visualized in a graph."
   ]
  },
  {
   "cell_type": "code",
   "execution_count": 9,
   "metadata": {},
   "outputs": [
    {
     "ename": "OSError",
     "evalue": "Format: \"dot\" not recognized. Use one of:\r\n",
     "output_type": "error",
     "traceback": [
      "\u001B[1;31m---------------------------------------------------------------------------\u001B[0m",
      "\u001B[1;31mOSError\u001B[0m                                   Traceback (most recent call last)",
      "\u001B[1;32m<ipython-input-9-eb71b832e003>\u001B[0m in \u001B[0;36m<module>\u001B[1;34m\u001B[0m\n\u001B[0;32m      1\u001B[0m \u001B[1;31m# Ground Truth Parents\u001B[0m\u001B[1;33m\u001B[0m\u001B[1;33m\u001B[0m\u001B[1;33m\u001B[0m\u001B[0m\n\u001B[0;32m      2\u001B[0m \u001B[0mparDG_truth\u001B[0m \u001B[1;33m=\u001B[0m \u001B[0mnx\u001B[0m\u001B[1;33m.\u001B[0m\u001B[0mDiGraph\u001B[0m\u001B[1;33m(\u001B[0m\u001B[0mparents\u001B[0m\u001B[1;33m)\u001B[0m\u001B[1;33m\u001B[0m\u001B[1;33m\u001B[0m\u001B[0m\n\u001B[1;32m----> 3\u001B[1;33m \u001B[0mpos\u001B[0m\u001B[1;33m=\u001B[0m \u001B[0mnx\u001B[0m\u001B[1;33m.\u001B[0m\u001B[0mdrawing\u001B[0m\u001B[1;33m.\u001B[0m\u001B[0mnx_agraph\u001B[0m\u001B[1;33m.\u001B[0m\u001B[0mgraphviz_layout\u001B[0m\u001B[1;33m(\u001B[0m\u001B[0mparDG_truth\u001B[0m\u001B[1;33m,\u001B[0m \u001B[0mprog\u001B[0m\u001B[1;33m=\u001B[0m\u001B[1;34m'dot'\u001B[0m\u001B[1;33m)\u001B[0m\u001B[1;33m\u001B[0m\u001B[1;33m\u001B[0m\u001B[0m\n\u001B[0m\u001B[0;32m      4\u001B[0m \u001B[0mnx\u001B[0m\u001B[1;33m.\u001B[0m\u001B[0mdraw\u001B[0m\u001B[1;33m(\u001B[0m\u001B[0mparDG_truth\u001B[0m\u001B[1;33m,\u001B[0m\u001B[0mpos\u001B[0m\u001B[1;33m,\u001B[0m\u001B[0mwith_labels\u001B[0m\u001B[1;33m=\u001B[0m\u001B[1;32mTrue\u001B[0m\u001B[1;33m)\u001B[0m\u001B[1;33m\u001B[0m\u001B[1;33m\u001B[0m\u001B[0m\n\u001B[0;32m      5\u001B[0m \u001B[1;33m\u001B[0m\u001B[0m\n",
      "\u001B[1;32m~\\anaconda3\\envs\\LTN_Pytorch\\lib\\site-packages\\networkx\\drawing\\nx_agraph.py\u001B[0m in \u001B[0;36mgraphviz_layout\u001B[1;34m(G, prog, root, args)\u001B[0m\n\u001B[0;32m    235\u001B[0m     \u001B[0mThis\u001B[0m \u001B[1;32mis\u001B[0m \u001B[0ma\u001B[0m \u001B[0mwrapper\u001B[0m \u001B[1;32mfor\u001B[0m \u001B[0mpygraphviz_layout\u001B[0m\u001B[1;33m.\u001B[0m\u001B[1;33m\u001B[0m\u001B[1;33m\u001B[0m\u001B[0m\n\u001B[0;32m    236\u001B[0m     \"\"\"\n\u001B[1;32m--> 237\u001B[1;33m     \u001B[1;32mreturn\u001B[0m \u001B[0mpygraphviz_layout\u001B[0m\u001B[1;33m(\u001B[0m\u001B[0mG\u001B[0m\u001B[1;33m,\u001B[0m \u001B[0mprog\u001B[0m\u001B[1;33m=\u001B[0m\u001B[0mprog\u001B[0m\u001B[1;33m,\u001B[0m \u001B[0mroot\u001B[0m\u001B[1;33m=\u001B[0m\u001B[0mroot\u001B[0m\u001B[1;33m,\u001B[0m \u001B[0margs\u001B[0m\u001B[1;33m=\u001B[0m\u001B[0margs\u001B[0m\u001B[1;33m)\u001B[0m\u001B[1;33m\u001B[0m\u001B[1;33m\u001B[0m\u001B[0m\n\u001B[0m\u001B[0;32m    238\u001B[0m \u001B[1;33m\u001B[0m\u001B[0m\n\u001B[0;32m    239\u001B[0m \u001B[1;33m\u001B[0m\u001B[0m\n",
      "\u001B[1;32m~\\anaconda3\\envs\\LTN_Pytorch\\lib\\site-packages\\networkx\\drawing\\nx_agraph.py\u001B[0m in \u001B[0;36mpygraphviz_layout\u001B[1;34m(G, prog, root, args)\u001B[0m\n\u001B[0;32m    283\u001B[0m         \u001B[0margs\u001B[0m \u001B[1;33m+=\u001B[0m \u001B[1;34mf\"-Groot={root}\"\u001B[0m\u001B[1;33m\u001B[0m\u001B[1;33m\u001B[0m\u001B[0m\n\u001B[0;32m    284\u001B[0m     \u001B[0mA\u001B[0m \u001B[1;33m=\u001B[0m \u001B[0mto_agraph\u001B[0m\u001B[1;33m(\u001B[0m\u001B[0mG\u001B[0m\u001B[1;33m)\u001B[0m\u001B[1;33m\u001B[0m\u001B[1;33m\u001B[0m\u001B[0m\n\u001B[1;32m--> 285\u001B[1;33m     \u001B[0mA\u001B[0m\u001B[1;33m.\u001B[0m\u001B[0mlayout\u001B[0m\u001B[1;33m(\u001B[0m\u001B[0mprog\u001B[0m\u001B[1;33m=\u001B[0m\u001B[0mprog\u001B[0m\u001B[1;33m,\u001B[0m \u001B[0margs\u001B[0m\u001B[1;33m=\u001B[0m\u001B[0margs\u001B[0m\u001B[1;33m)\u001B[0m\u001B[1;33m\u001B[0m\u001B[1;33m\u001B[0m\u001B[0m\n\u001B[0m\u001B[0;32m    286\u001B[0m     \u001B[0mnode_pos\u001B[0m \u001B[1;33m=\u001B[0m \u001B[1;33m{\u001B[0m\u001B[1;33m}\u001B[0m\u001B[1;33m\u001B[0m\u001B[1;33m\u001B[0m\u001B[0m\n\u001B[0;32m    287\u001B[0m     \u001B[1;32mfor\u001B[0m \u001B[0mn\u001B[0m \u001B[1;32min\u001B[0m \u001B[0mG\u001B[0m\u001B[1;33m:\u001B[0m\u001B[1;33m\u001B[0m\u001B[1;33m\u001B[0m\u001B[0m\n",
      "\u001B[1;32m~\\anaconda3\\envs\\LTN_Pytorch\\lib\\site-packages\\pygraphviz\\agraph.py\u001B[0m in \u001B[0;36mlayout\u001B[1;34m(self, prog, args)\u001B[0m\n\u001B[0;32m   1397\u001B[0m         \"\"\"\n\u001B[0;32m   1398\u001B[0m         \u001B[0mfmt\u001B[0m \u001B[1;33m=\u001B[0m \u001B[1;34m'dot'\u001B[0m\u001B[1;33m\u001B[0m\u001B[1;33m\u001B[0m\u001B[0m\n\u001B[1;32m-> 1399\u001B[1;33m         \u001B[0mdata\u001B[0m \u001B[1;33m=\u001B[0m \u001B[0mself\u001B[0m\u001B[1;33m.\u001B[0m\u001B[0m_run_prog\u001B[0m\u001B[1;33m(\u001B[0m\u001B[0mprog\u001B[0m\u001B[1;33m,\u001B[0m \u001B[1;34m' '\u001B[0m\u001B[1;33m.\u001B[0m\u001B[0mjoin\u001B[0m\u001B[1;33m(\u001B[0m\u001B[1;33m[\u001B[0m\u001B[0margs\u001B[0m\u001B[1;33m,\u001B[0m \u001B[1;34m\"-T\"\u001B[0m\u001B[1;33m,\u001B[0m \u001B[0mfmt\u001B[0m\u001B[1;33m]\u001B[0m\u001B[1;33m)\u001B[0m\u001B[1;33m)\u001B[0m\u001B[1;33m\u001B[0m\u001B[1;33m\u001B[0m\u001B[0m\n\u001B[0m\u001B[0;32m   1400\u001B[0m         \u001B[0mself\u001B[0m\u001B[1;33m.\u001B[0m\u001B[0mfrom_string\u001B[0m\u001B[1;33m(\u001B[0m\u001B[0mdata\u001B[0m\u001B[1;33m)\u001B[0m\u001B[1;33m\u001B[0m\u001B[1;33m\u001B[0m\u001B[0m\n\u001B[0;32m   1401\u001B[0m         \u001B[0mself\u001B[0m\u001B[1;33m.\u001B[0m\u001B[0mhas_layout\u001B[0m \u001B[1;33m=\u001B[0m \u001B[1;32mTrue\u001B[0m\u001B[1;33m\u001B[0m\u001B[1;33m\u001B[0m\u001B[0m\n",
      "\u001B[1;32m~\\anaconda3\\envs\\LTN_Pytorch\\lib\\site-packages\\pygraphviz\\agraph.py\u001B[0m in \u001B[0;36m_run_prog\u001B[1;34m(self, prog, args)\u001B[0m\n\u001B[0;32m   1362\u001B[0m \u001B[1;33m\u001B[0m\u001B[0m\n\u001B[0;32m   1363\u001B[0m         \u001B[1;32mif\u001B[0m \u001B[1;32mnot\u001B[0m \u001B[0mdata\u001B[0m\u001B[1;33m:\u001B[0m\u001B[1;33m\u001B[0m\u001B[1;33m\u001B[0m\u001B[0m\n\u001B[1;32m-> 1364\u001B[1;33m             \u001B[1;32mraise\u001B[0m \u001B[0mIOError\u001B[0m\u001B[1;33m(\u001B[0m\u001B[1;34mb\"\"\u001B[0m\u001B[1;33m.\u001B[0m\u001B[0mjoin\u001B[0m\u001B[1;33m(\u001B[0m\u001B[0merrors\u001B[0m\u001B[1;33m)\u001B[0m\u001B[1;33m.\u001B[0m\u001B[0mdecode\u001B[0m\u001B[1;33m(\u001B[0m\u001B[0mself\u001B[0m\u001B[1;33m.\u001B[0m\u001B[0mencoding\u001B[0m\u001B[1;33m)\u001B[0m\u001B[1;33m)\u001B[0m\u001B[1;33m\u001B[0m\u001B[1;33m\u001B[0m\u001B[0m\n\u001B[0m\u001B[0;32m   1365\u001B[0m \u001B[1;33m\u001B[0m\u001B[0m\n\u001B[0;32m   1366\u001B[0m         \u001B[1;32mif\u001B[0m \u001B[0mlen\u001B[0m\u001B[1;33m(\u001B[0m\u001B[0merrors\u001B[0m\u001B[1;33m)\u001B[0m \u001B[1;33m>\u001B[0m \u001B[1;36m0\u001B[0m\u001B[1;33m:\u001B[0m\u001B[1;33m\u001B[0m\u001B[1;33m\u001B[0m\u001B[0m\n",
      "\u001B[1;31mOSError\u001B[0m: Format: \"dot\" not recognized. Use one of:\r\n"
     ]
    }
   ],
   "source": [
    "# Ground Truth Parents\n",
    "parDG_truth = nx.DiGraph(parents)\n",
    "pos= nx.drawing.nx_agraph.graphviz_layout(parDG_truth, prog='dot')\n",
    "nx.draw(parDG_truth,pos,with_labels=True)"
   ]
  },
  {
   "cell_type": "markdown",
   "metadata": {},
   "source": [
    "Ancestor relationships and visualization in a graph."
   ]
  },
  {
   "cell_type": "code",
   "execution_count": 12,
   "metadata": {},
   "outputs": [
    {
     "ename": "ValueError",
     "evalue": "Program dot not found in path.",
     "output_type": "error",
     "traceback": [
      "\u001B[1;31m---------------------------------------------------------------------------\u001B[0m",
      "\u001B[1;31mValueError\u001B[0m                                Traceback (most recent call last)",
      "\u001B[1;32m~\\anaconda3\\envs\\LTN_Pytorch\\lib\\site-packages\\pygraphviz\\agraph.py\u001B[0m in \u001B[0;36m_get_prog\u001B[1;34m(self, prog)\u001B[0m\n",
      "\u001B[1;32m~\\anaconda3\\envs\\LTN_Pytorch\\lib\\site-packages\\pygraphviz\\agraph.py\u001B[0m in \u001B[0;36m_which\u001B[1;34m(self, name)\u001B[0m\n",
      "\u001B[1;31mValueError\u001B[0m: No prog dot in path.",
      "\nDuring handling of the above exception, another exception occurred:\n",
      "\u001B[1;31mValueError\u001B[0m                                Traceback (most recent call last)",
      "\u001B[1;32m<ipython-input-12-be2440688f69>\u001B[0m in \u001B[0;36m<module>\u001B[1;34m\u001B[0m\n\u001B[0;32m     14\u001B[0m \u001B[1;33m\u001B[0m\u001B[0m\n\u001B[0;32m     15\u001B[0m \u001B[0mancDG_truth\u001B[0m \u001B[1;33m=\u001B[0m \u001B[0mnx\u001B[0m\u001B[1;33m.\u001B[0m\u001B[0mDiGraph\u001B[0m\u001B[1;33m(\u001B[0m\u001B[0mancestors\u001B[0m\u001B[1;33m)\u001B[0m\u001B[1;33m\u001B[0m\u001B[1;33m\u001B[0m\u001B[0m\n\u001B[1;32m---> 16\u001B[1;33m \u001B[0mpos\u001B[0m\u001B[1;33m=\u001B[0m \u001B[0mnx\u001B[0m\u001B[1;33m.\u001B[0m\u001B[0mdrawing\u001B[0m\u001B[1;33m.\u001B[0m\u001B[0mnx_agraph\u001B[0m\u001B[1;33m.\u001B[0m\u001B[0mgraphviz_layout\u001B[0m\u001B[1;33m(\u001B[0m\u001B[0mparDG_truth\u001B[0m\u001B[1;33m,\u001B[0m \u001B[0mprog\u001B[0m\u001B[1;33m=\u001B[0m\u001B[1;34m'dot'\u001B[0m\u001B[1;33m)\u001B[0m\u001B[1;33m\u001B[0m\u001B[1;33m\u001B[0m\u001B[0m\n\u001B[0m\u001B[0;32m     17\u001B[0m \u001B[0mnx\u001B[0m\u001B[1;33m.\u001B[0m\u001B[0mdraw\u001B[0m\u001B[1;33m(\u001B[0m\u001B[0mancDG_truth\u001B[0m\u001B[1;33m,\u001B[0m\u001B[0mpos\u001B[0m\u001B[1;33m,\u001B[0m\u001B[0mwith_labels\u001B[0m\u001B[1;33m=\u001B[0m\u001B[1;32mTrue\u001B[0m\u001B[1;33m)\u001B[0m\u001B[1;33m\u001B[0m\u001B[1;33m\u001B[0m\u001B[0m\n\u001B[0;32m     18\u001B[0m \u001B[1;33m\u001B[0m\u001B[0m\n",
      "\u001B[1;32m~\\anaconda3\\envs\\LTN_Pytorch\\lib\\site-packages\\networkx\\drawing\\nx_agraph.py\u001B[0m in \u001B[0;36mgraphviz_layout\u001B[1;34m(G, prog, root, args)\u001B[0m\n\u001B[0;32m    235\u001B[0m     \u001B[0mThis\u001B[0m \u001B[1;32mis\u001B[0m \u001B[0ma\u001B[0m \u001B[0mwrapper\u001B[0m \u001B[1;32mfor\u001B[0m \u001B[0mpygraphviz_layout\u001B[0m\u001B[1;33m.\u001B[0m\u001B[1;33m\u001B[0m\u001B[1;33m\u001B[0m\u001B[0m\n\u001B[0;32m    236\u001B[0m     \"\"\"\n\u001B[1;32m--> 237\u001B[1;33m     \u001B[1;32mreturn\u001B[0m \u001B[0mpygraphviz_layout\u001B[0m\u001B[1;33m(\u001B[0m\u001B[0mG\u001B[0m\u001B[1;33m,\u001B[0m \u001B[0mprog\u001B[0m\u001B[1;33m=\u001B[0m\u001B[0mprog\u001B[0m\u001B[1;33m,\u001B[0m \u001B[0mroot\u001B[0m\u001B[1;33m=\u001B[0m\u001B[0mroot\u001B[0m\u001B[1;33m,\u001B[0m \u001B[0margs\u001B[0m\u001B[1;33m=\u001B[0m\u001B[0margs\u001B[0m\u001B[1;33m)\u001B[0m\u001B[1;33m\u001B[0m\u001B[1;33m\u001B[0m\u001B[0m\n\u001B[0m\u001B[0;32m    238\u001B[0m \u001B[1;33m\u001B[0m\u001B[0m\n\u001B[0;32m    239\u001B[0m \u001B[1;33m\u001B[0m\u001B[0m\n",
      "\u001B[1;32m~\\anaconda3\\envs\\LTN_Pytorch\\lib\\site-packages\\networkx\\drawing\\nx_agraph.py\u001B[0m in \u001B[0;36mpygraphviz_layout\u001B[1;34m(G, prog, root, args)\u001B[0m\n\u001B[0;32m    283\u001B[0m         \u001B[0margs\u001B[0m \u001B[1;33m+=\u001B[0m \u001B[1;34mf\"-Groot={root}\"\u001B[0m\u001B[1;33m\u001B[0m\u001B[1;33m\u001B[0m\u001B[0m\n\u001B[0;32m    284\u001B[0m     \u001B[0mA\u001B[0m \u001B[1;33m=\u001B[0m \u001B[0mto_agraph\u001B[0m\u001B[1;33m(\u001B[0m\u001B[0mG\u001B[0m\u001B[1;33m)\u001B[0m\u001B[1;33m\u001B[0m\u001B[1;33m\u001B[0m\u001B[0m\n\u001B[1;32m--> 285\u001B[1;33m     \u001B[0mA\u001B[0m\u001B[1;33m.\u001B[0m\u001B[0mlayout\u001B[0m\u001B[1;33m(\u001B[0m\u001B[0mprog\u001B[0m\u001B[1;33m=\u001B[0m\u001B[0mprog\u001B[0m\u001B[1;33m,\u001B[0m \u001B[0margs\u001B[0m\u001B[1;33m=\u001B[0m\u001B[0margs\u001B[0m\u001B[1;33m)\u001B[0m\u001B[1;33m\u001B[0m\u001B[1;33m\u001B[0m\u001B[0m\n\u001B[0m\u001B[0;32m    286\u001B[0m     \u001B[0mnode_pos\u001B[0m \u001B[1;33m=\u001B[0m \u001B[1;33m{\u001B[0m\u001B[1;33m}\u001B[0m\u001B[1;33m\u001B[0m\u001B[1;33m\u001B[0m\u001B[0m\n\u001B[0;32m    287\u001B[0m     \u001B[1;32mfor\u001B[0m \u001B[0mn\u001B[0m \u001B[1;32min\u001B[0m \u001B[0mG\u001B[0m\u001B[1;33m:\u001B[0m\u001B[1;33m\u001B[0m\u001B[1;33m\u001B[0m\u001B[0m\n",
      "\u001B[1;32m~\\anaconda3\\envs\\LTN_Pytorch\\lib\\site-packages\\pygraphviz\\agraph.py\u001B[0m in \u001B[0;36mlayout\u001B[1;34m(self, prog, args)\u001B[0m\n",
      "\u001B[1;32m~\\anaconda3\\envs\\LTN_Pytorch\\lib\\site-packages\\pygraphviz\\agraph.py\u001B[0m in \u001B[0;36m_run_prog\u001B[1;34m(self, prog, args)\u001B[0m\n",
      "\u001B[1;32m~\\anaconda3\\envs\\LTN_Pytorch\\lib\\site-packages\\pygraphviz\\agraph.py\u001B[0m in \u001B[0;36m_get_prog\u001B[1;34m(self, prog)\u001B[0m\n",
      "\u001B[1;31mValueError\u001B[0m: Program dot not found in path."
     ]
    }
   ],
   "source": [
    "# Ground Truth Ancestors\n",
    "def get_descendants(entity, DG):\n",
    "    all_d = []\n",
    "    direct_d = list(DG.successors(entity))\n",
    "    all_d += direct_d\n",
    "    for d in direct_d:\n",
    "        all_d += get_descendants(d, DG)\n",
    "    return all_d\n",
    "\n",
    "ancestors = []\n",
    "for e in entities:\n",
    "    for d in get_descendants(e, parDG_truth):\n",
    "        ancestors.append((e,d))\n",
    "\n",
    "ancDG_truth = nx.DiGraph(ancestors)\n",
    "pos= nx.drawing.nx_agraph.graphviz_layout(parDG_truth, prog='dot')\n",
    "nx.draw(ancDG_truth,pos,with_labels=True)"
   ]
  },
  {
   "cell_type": "markdown",
   "metadata": {},
   "source": [
    "# LTN\n",
    "\n",
    "Every individual is grounded as a trainable LTN constant in $\\mathbb{R}^2$. The grounding of the predicates `Parent` and `Ancestor` (modelled by multi-layer perceptrons) are learned at the same times as the embeddings for the individuals.\n",
    "\n",
    "We give the complete parent relationships in the knowledgebase. However, we don't give any ancestor relationships; they are to be inferred using a set of rules."
   ]
  },
  {
   "cell_type": "code",
   "execution_count": 13,
   "metadata": {},
   "outputs": [],
   "source": [
    "embedding_size = 4\n",
    "\n",
    "Ancestor = ltn.Predicate.MLP([embedding_size,embedding_size],hidden_layer_sizes=[8,8])\n",
    "Parent = ltn.Predicate.MLP([embedding_size,embedding_size],hidden_layer_sizes=[8,8])\n",
    "\n",
    "g_e = {\n",
    "    l: ltn.constant(np.random.uniform(low=0.,high=1.,size=embedding_size), trainable=True) \n",
    "    for l in entities\n",
    "}\n"
   ]
  },
  {
   "cell_type": "markdown",
   "metadata": {},
   "source": [
    "Knowledge Base"
   ]
  },
  {
   "cell_type": "code",
   "execution_count": 14,
   "metadata": {},
   "outputs": [],
   "source": [
    "Not = ltn.Wrapper_Connective(ltn.fuzzy_ops.Not_Std())\n",
    "And = ltn.Wrapper_Connective(ltn.fuzzy_ops.And_Prod())\n",
    "Or = ltn.Wrapper_Connective(ltn.fuzzy_ops.Or_ProbSum())\n",
    "Implies = ltn.Wrapper_Connective(ltn.fuzzy_ops.Implies_Reichenbach())\n",
    "Forall = ltn.Wrapper_Quantifier(ltn.fuzzy_ops.Aggreg_pMeanError(p=5),semantics=\"forall\")\n",
    "Exists = ltn.Wrapper_Quantifier(ltn.fuzzy_ops.Aggreg_pMean(p=5),semantics=\"exists\")"
   ]
  },
  {
   "cell_type": "code",
   "execution_count": 15,
   "metadata": {},
   "outputs": [
    {
     "name": "stdout",
     "output_type": "stream",
     "text": [
      "Initial sat level 0.54432\n"
     ]
    }
   ],
   "source": [
    "formula_aggregator = ltn.fuzzy_ops.Aggreg_pMeanError(p=5)\n",
    "\n",
    "# defining the theory\n",
    "#@tf.function\n",
    "def axioms():\n",
    "    # Variables created in the training loop, so tf.GradientTape\n",
    "    # keeps track of the connection with the trainable constants.\n",
    "    a = ltn.variable(\"a\",torch.stack(list(g_e.values())))\n",
    "    b = ltn.variable(\"b\",torch.stack(list(g_e.values())))\n",
    "    c = ltn.variable(\"c\",torch.stack(list(g_e.values())))\n",
    "\n",
    "    ## Complete knowledge about parent relationships.\n",
    "    ## The ancestor relationships are to be learned with these additional rules.\n",
    "    axioms = [\n",
    "        # forall pairs of individuals in the parent relationships: Parent(ancestor,child)\n",
    "        Parent([g_e[a],g_e[c]])\n",
    "        for a,c in parents\n",
    "    ] + \\\n",
    "    [\n",
    "        # forall pairs of individuals not in the parent relationships: Not(Parent([n_parent,n_child])))\n",
    "        Not(Parent([g_e[a],g_e[c]]))\n",
    "        for a,c in not_parents\n",
    "    ] + \\\n",
    "    [\n",
    "        # if a is parent of b, then a is ancestor of b\n",
    "        Forall((a,b), Implies(Parent([a,b]),Ancestor([a,b]))),\n",
    "        # parent is anti reflexive\n",
    "        Forall(a, Not(Parent([a,a]))),\n",
    "        # ancestor is anti reflexive\n",
    "        Forall(a, Not(Ancestor([a,a]))),\n",
    "        # parent is anti symmetric\n",
    "        Forall((a,b), Implies(Parent([a,b]),Not(Parent([b,a])))),\n",
    "        # if a is parent of an ancestor of c, a is an ancestor of c too\n",
    "        Forall(\n",
    "            (a,b,c),\n",
    "            Implies(And(Parent([a,b]),Ancestor([b,c])), Ancestor([a,c])),\n",
    "            p=6\n",
    "        ),\n",
    "        # if a is an ancestor of b, a is a parent of b OR a parent of an ancestor of b\n",
    "        Forall(\n",
    "            (a,b),\n",
    "            Implies(Ancestor([a,b]),\n",
    "                    Or(Parent([a,b]),\n",
    "                       Exists(c, And(Ancestor([a,c]),Parent([c,b])),p=6)\n",
    "                      )\n",
    "                   )\n",
    "        )\n",
    "    ]\n",
    "    # computing sat_level\n",
    "    axioms = torch.stack([torch.squeeze(ax) for ax in axioms])\n",
    "    sat_level = formula_aggregator(axioms, axis=0)\n",
    "    return sat_level, axioms\n",
    "\n",
    "print(\"Initial sat level %.5f\"%axioms()[0])"
   ]
  },
  {
   "cell_type": "markdown",
   "metadata": {},
   "source": [
    "Training"
   ]
  },
  {
   "cell_type": "code",
   "execution_count": 16,
   "metadata": {},
   "outputs": [],
   "source": [
    "trainable_variables = list(Parent.parameters())\\\n",
    "                      +list(Ancestor.parameters())\\\n",
    "                      +list(g_e.values())\n",
    "optimizer = torch.optim.Adam(trainable_variables, lr=0.001)"
   ]
  },
  {
   "cell_type": "code",
   "execution_count": 17,
   "metadata": {},
   "outputs": [
    {
     "name": "stdout",
     "output_type": "stream",
     "text": [
      "Epoch 0: Sat Level 0.546\n",
      "Epoch 200: Sat Level 0.593\n",
      "Epoch 400: Sat Level 0.614\n",
      "Epoch 600: Sat Level 0.627\n",
      "Epoch 800: Sat Level 0.701\n",
      "Epoch 1000: Sat Level 0.923\n",
      "Epoch 1200: Sat Level 0.948\n",
      "Epoch 1400: Sat Level 0.948\n",
      "Epoch 1600: Sat Level 0.949\n",
      "Epoch 1800: Sat Level 0.949\n",
      "Epoch 2000: Sat Level 0.949\n",
      "Epoch 2200: Sat Level 0.949\n",
      "Epoch 2400: Sat Level 0.949\n",
      "Epoch 2600: Sat Level 0.949\n",
      "Epoch 2800: Sat Level 0.949\n",
      "Training finished at Epoch 2999 with Sat Level 0.949\n"
     ]
    }
   ],
   "source": [
    "for epoch in range(3000):\n",
    "    optimizer.zero_grad()\n",
    "    loss_value = 1. - axioms()[0]\n",
    "    loss_value.backward()\n",
    "    optimizer.step()\n",
    "    if epoch%200 == 0:\n",
    "        print(\"Epoch %d: Sat Level %.3f\"%(epoch, axioms()[0]))\n",
    "print(\"Training finished at Epoch %d with Sat Level %.3f\"%(epoch, axioms()[0]))"
   ]
  },
  {
   "cell_type": "markdown",
   "metadata": {},
   "source": [
    "# Querying additional axioms"
   ]
  },
  {
   "cell_type": "markdown",
   "metadata": {},
   "source": [
    "Additional axioms:\n",
    "1. forall a,b,c: (Ancestor(a,b) & Parent(b,c)) -> Ancestor (a,c)\n",
    "2. forall a,b: Ancestor(a,b) -> ~Ancestor(b,a)\n",
    "3. forall a,b,c: (Parent(a,b) & Parent(b,c)) -> Ancestor(a,c)\n",
    "4. forall a,b,c: (Ancestor(a,b) & Ancestor(b,c)) -> Ancestor(a,c)"
   ]
  },
  {
   "cell_type": "code",
   "execution_count": 18,
   "metadata": {},
   "outputs": [],
   "source": [
    "a = ltn.variable(\"a\",torch.stack(list(g_e.values())))\n",
    "b = ltn.variable(\"b\",torch.stack(list(g_e.values())))\n",
    "c = ltn.variable(\"c\",torch.stack(list(g_e.values())))"
   ]
  },
  {
   "cell_type": "code",
   "execution_count": 19,
   "metadata": {},
   "outputs": [
    {
     "data": {
      "text/plain": "tensor(0.8513, grad_fn=<RsubBackward1>)"
     },
     "execution_count": 19,
     "metadata": {},
     "output_type": "execute_result"
    }
   ],
   "source": [
    "Forall((a,b,c), \n",
    "       Implies(And(Ancestor([a,b]),Parent([b,c])), Ancestor([a,c]))\n",
    ")"
   ]
  },
  {
   "cell_type": "code",
   "execution_count": 20,
   "metadata": {},
   "outputs": [
    {
     "data": {
      "text/plain": "tensor(0.9998, grad_fn=<RsubBackward1>)"
     },
     "execution_count": 20,
     "metadata": {},
     "output_type": "execute_result"
    }
   ],
   "source": [
    "Forall((a,b), \n",
    "       Implies(Ancestor([a,b]), Not(Ancestor([b,a])))\n",
    ")"
   ]
  },
  {
   "cell_type": "code",
   "execution_count": 21,
   "metadata": {},
   "outputs": [
    {
     "data": {
      "text/plain": "tensor(0.8625, grad_fn=<RsubBackward1>)"
     },
     "execution_count": 21,
     "metadata": {},
     "output_type": "execute_result"
    }
   ],
   "source": [
    "Forall((a,b,c),\n",
    "       Implies(And(Parent([a,b]),Parent([b,c])), Ancestor([a,c]))\n",
    ")"
   ]
  },
  {
   "cell_type": "code",
   "execution_count": 22,
   "metadata": {},
   "outputs": [
    {
     "data": {
      "text/plain": "tensor(0.8625, grad_fn=<RsubBackward1>)"
     },
     "execution_count": 22,
     "metadata": {},
     "output_type": "execute_result"
    }
   ],
   "source": [
    "Forall((a,b,c),\n",
    "       Implies(And(Parent([a,b]),Parent([b,c])), Ancestor([a,c]))\n",
    ")"
   ]
  },
  {
   "cell_type": "markdown",
   "metadata": {},
   "source": [
    "# Visualize Results"
   ]
  },
  {
   "cell_type": "code",
   "execution_count": 23,
   "metadata": {},
   "outputs": [
    {
     "ename": "RuntimeError",
     "evalue": "Can't call numpy() on Tensor that requires grad. Use tensor.detach().numpy() instead.",
     "output_type": "error",
     "traceback": [
      "\u001B[1;31m---------------------------------------------------------------------------\u001B[0m",
      "\u001B[1;31mRuntimeError\u001B[0m                              Traceback (most recent call last)",
      "\u001B[1;32m<ipython-input-23-de19b94f8a42>\u001B[0m in \u001B[0;36m<module>\u001B[1;34m\u001B[0m\n\u001B[0;32m      1\u001B[0m \u001B[0mthreshold\u001B[0m \u001B[1;33m=\u001B[0m \u001B[1;36m0.5\u001B[0m\u001B[1;33m\u001B[0m\u001B[1;33m\u001B[0m\u001B[0m\n\u001B[1;32m----> 2\u001B[1;33m parents_test = [\n\u001B[0m\u001B[0;32m      3\u001B[0m     \u001B[1;33m(\u001B[0m\u001B[0me1\u001B[0m\u001B[1;33m,\u001B[0m\u001B[0me2\u001B[0m\u001B[1;33m)\u001B[0m \u001B[1;32mfor\u001B[0m \u001B[0me1\u001B[0m \u001B[1;32min\u001B[0m \u001B[0mentities\u001B[0m \u001B[1;32mfor\u001B[0m \u001B[0me2\u001B[0m \u001B[1;32min\u001B[0m \u001B[0mentities\u001B[0m\u001B[1;33m\u001B[0m\u001B[1;33m\u001B[0m\u001B[0m\n\u001B[0;32m      4\u001B[0m     \u001B[1;32mif\u001B[0m \u001B[1;33m(\u001B[0m\u001B[0mParent\u001B[0m\u001B[1;33m(\u001B[0m\u001B[1;33m[\u001B[0m\u001B[0mg_e\u001B[0m\u001B[1;33m[\u001B[0m\u001B[0me1\u001B[0m\u001B[1;33m]\u001B[0m\u001B[1;33m,\u001B[0m\u001B[0mg_e\u001B[0m\u001B[1;33m[\u001B[0m\u001B[0me2\u001B[0m\u001B[1;33m]\u001B[0m\u001B[1;33m]\u001B[0m\u001B[1;33m)\u001B[0m\u001B[1;33m.\u001B[0m\u001B[0mnumpy\u001B[0m\u001B[1;33m(\u001B[0m\u001B[1;33m)\u001B[0m \u001B[1;33m>\u001B[0m \u001B[1;36m0.5\u001B[0m\u001B[1;33m)\u001B[0m\u001B[1;33m\u001B[0m\u001B[1;33m\u001B[0m\u001B[0m\n\u001B[0;32m      5\u001B[0m ]\n",
      "\u001B[1;32m<ipython-input-23-de19b94f8a42>\u001B[0m in \u001B[0;36m<listcomp>\u001B[1;34m(.0)\u001B[0m\n\u001B[0;32m      2\u001B[0m parents_test = [\n\u001B[0;32m      3\u001B[0m     \u001B[1;33m(\u001B[0m\u001B[0me1\u001B[0m\u001B[1;33m,\u001B[0m\u001B[0me2\u001B[0m\u001B[1;33m)\u001B[0m \u001B[1;32mfor\u001B[0m \u001B[0me1\u001B[0m \u001B[1;32min\u001B[0m \u001B[0mentities\u001B[0m \u001B[1;32mfor\u001B[0m \u001B[0me2\u001B[0m \u001B[1;32min\u001B[0m \u001B[0mentities\u001B[0m\u001B[1;33m\u001B[0m\u001B[1;33m\u001B[0m\u001B[0m\n\u001B[1;32m----> 4\u001B[1;33m     \u001B[1;32mif\u001B[0m \u001B[1;33m(\u001B[0m\u001B[0mParent\u001B[0m\u001B[1;33m(\u001B[0m\u001B[1;33m[\u001B[0m\u001B[0mg_e\u001B[0m\u001B[1;33m[\u001B[0m\u001B[0me1\u001B[0m\u001B[1;33m]\u001B[0m\u001B[1;33m,\u001B[0m\u001B[0mg_e\u001B[0m\u001B[1;33m[\u001B[0m\u001B[0me2\u001B[0m\u001B[1;33m]\u001B[0m\u001B[1;33m]\u001B[0m\u001B[1;33m)\u001B[0m\u001B[1;33m.\u001B[0m\u001B[0mnumpy\u001B[0m\u001B[1;33m(\u001B[0m\u001B[1;33m)\u001B[0m \u001B[1;33m>\u001B[0m \u001B[1;36m0.5\u001B[0m\u001B[1;33m)\u001B[0m\u001B[1;33m\u001B[0m\u001B[1;33m\u001B[0m\u001B[0m\n\u001B[0m\u001B[0;32m      5\u001B[0m ]\n\u001B[0;32m      6\u001B[0m \u001B[1;33m\u001B[0m\u001B[0m\n",
      "\u001B[1;31mRuntimeError\u001B[0m: Can't call numpy() on Tensor that requires grad. Use tensor.detach().numpy() instead."
     ]
    }
   ],
   "source": [
    "threshold = 0.5\n",
    "parents_test = [\n",
    "    (e1,e2) for e1 in entities for e2 in entities\n",
    "    if (Parent([g_e[e1],g_e[e2]]).numpy() > 0.5)\n",
    "]\n",
    "\n",
    "parDG_test = nx.DiGraph(parents_test)\n",
    "pos= nx.drawing.nx_agraph.graphviz_layout(parDG_truth, prog='dot')\n",
    "nx.draw(parDG_test,pos,with_labels=True)"
   ]
  },
  {
   "cell_type": "code",
   "execution_count": 24,
   "metadata": {},
   "outputs": [
    {
     "ename": "RuntimeError",
     "evalue": "Can't call numpy() on Tensor that requires grad. Use tensor.detach().numpy() instead.",
     "output_type": "error",
     "traceback": [
      "\u001B[1;31m---------------------------------------------------------------------------\u001B[0m",
      "\u001B[1;31mRuntimeError\u001B[0m                              Traceback (most recent call last)",
      "\u001B[1;32m<ipython-input-24-9e7f1931991c>\u001B[0m in \u001B[0;36m<module>\u001B[1;34m\u001B[0m\n\u001B[0;32m      1\u001B[0m \u001B[0mthreshold\u001B[0m \u001B[1;33m=\u001B[0m \u001B[1;36m0.5\u001B[0m\u001B[1;33m\u001B[0m\u001B[1;33m\u001B[0m\u001B[0m\n\u001B[1;32m----> 2\u001B[1;33m ancestors_test = [\n\u001B[0m\u001B[0;32m      3\u001B[0m     \u001B[1;33m(\u001B[0m\u001B[0me1\u001B[0m\u001B[1;33m,\u001B[0m\u001B[0me2\u001B[0m\u001B[1;33m)\u001B[0m \u001B[1;32mfor\u001B[0m \u001B[0me1\u001B[0m \u001B[1;32min\u001B[0m \u001B[0mentities\u001B[0m \u001B[1;32mfor\u001B[0m \u001B[0me2\u001B[0m \u001B[1;32min\u001B[0m \u001B[0mentities\u001B[0m\u001B[1;33m\u001B[0m\u001B[1;33m\u001B[0m\u001B[0m\n\u001B[0;32m      4\u001B[0m     \u001B[1;32mif\u001B[0m \u001B[1;33m(\u001B[0m\u001B[0mAncestor\u001B[0m\u001B[1;33m(\u001B[0m\u001B[1;33m[\u001B[0m\u001B[0mg_e\u001B[0m\u001B[1;33m[\u001B[0m\u001B[0me1\u001B[0m\u001B[1;33m]\u001B[0m\u001B[1;33m,\u001B[0m\u001B[0mg_e\u001B[0m\u001B[1;33m[\u001B[0m\u001B[0me2\u001B[0m\u001B[1;33m]\u001B[0m\u001B[1;33m]\u001B[0m\u001B[1;33m)\u001B[0m\u001B[1;33m.\u001B[0m\u001B[0mnumpy\u001B[0m\u001B[1;33m(\u001B[0m\u001B[1;33m)\u001B[0m \u001B[1;33m>\u001B[0m \u001B[1;36m0.5\u001B[0m\u001B[1;33m)\u001B[0m\u001B[1;33m\u001B[0m\u001B[1;33m\u001B[0m\u001B[0m\n\u001B[0;32m      5\u001B[0m ]\n",
      "\u001B[1;32m<ipython-input-24-9e7f1931991c>\u001B[0m in \u001B[0;36m<listcomp>\u001B[1;34m(.0)\u001B[0m\n\u001B[0;32m      2\u001B[0m ancestors_test = [\n\u001B[0;32m      3\u001B[0m     \u001B[1;33m(\u001B[0m\u001B[0me1\u001B[0m\u001B[1;33m,\u001B[0m\u001B[0me2\u001B[0m\u001B[1;33m)\u001B[0m \u001B[1;32mfor\u001B[0m \u001B[0me1\u001B[0m \u001B[1;32min\u001B[0m \u001B[0mentities\u001B[0m \u001B[1;32mfor\u001B[0m \u001B[0me2\u001B[0m \u001B[1;32min\u001B[0m \u001B[0mentities\u001B[0m\u001B[1;33m\u001B[0m\u001B[1;33m\u001B[0m\u001B[0m\n\u001B[1;32m----> 4\u001B[1;33m     \u001B[1;32mif\u001B[0m \u001B[1;33m(\u001B[0m\u001B[0mAncestor\u001B[0m\u001B[1;33m(\u001B[0m\u001B[1;33m[\u001B[0m\u001B[0mg_e\u001B[0m\u001B[1;33m[\u001B[0m\u001B[0me1\u001B[0m\u001B[1;33m]\u001B[0m\u001B[1;33m,\u001B[0m\u001B[0mg_e\u001B[0m\u001B[1;33m[\u001B[0m\u001B[0me2\u001B[0m\u001B[1;33m]\u001B[0m\u001B[1;33m]\u001B[0m\u001B[1;33m)\u001B[0m\u001B[1;33m.\u001B[0m\u001B[0mnumpy\u001B[0m\u001B[1;33m(\u001B[0m\u001B[1;33m)\u001B[0m \u001B[1;33m>\u001B[0m \u001B[1;36m0.5\u001B[0m\u001B[1;33m)\u001B[0m\u001B[1;33m\u001B[0m\u001B[1;33m\u001B[0m\u001B[0m\n\u001B[0m\u001B[0;32m      5\u001B[0m ]\n\u001B[0;32m      6\u001B[0m \u001B[1;33m\u001B[0m\u001B[0m\n",
      "\u001B[1;31mRuntimeError\u001B[0m: Can't call numpy() on Tensor that requires grad. Use tensor.detach().numpy() instead."
     ]
    }
   ],
   "source": [
    "threshold = 0.5\n",
    "ancestors_test = [\n",
    "    (e1,e2) for e1 in entities for e2 in entities\n",
    "    if (Ancestor([g_e[e1],g_e[e2]]).numpy() > 0.5)\n",
    "]\n",
    "\n",
    "ancDG_test = nx.DiGraph(ancestors_test)\n",
    "pos= nx.drawing.nx_agraph.graphviz_layout(parDG_test, prog='dot')\n",
    "nx.draw(ancDG_test,pos,with_labels=True)"
   ]
  },
  {
   "cell_type": "code",
   "execution_count": null,
   "outputs": [],
   "source": [],
   "metadata": {
    "collapsed": false,
    "pycharm": {
     "name": "#%%\n"
    }
   }
  }
 ],
 "metadata": {
  "kernelspec": {
   "name": "python3",
   "language": "python",
   "display_name": "Python 3"
  },
  "language_info": {
   "codemirror_mode": {
    "name": "ipython",
    "version": 3
   },
   "file_extension": ".py",
   "mimetype": "text/x-python",
   "name": "python",
   "nbconvert_exporter": "python",
   "pygments_lexer": "ipython3",
   "version": "3.8.5"
  }
 },
 "nbformat": 4,
 "nbformat_minor": 4
}