{
 "cells": [
  {
   "cell_type": "markdown",
   "metadata": {},
   "source": [
    "# Grounding in LTN (cont.)\n",
    "\n",
    "This tutorial explains how to ground connectives and quantifiers. It expects some familiarity with the first tutorial on grounding non-logical symbols (constants, variables, functions and predicates)."
   ]
  },
  {
   "cell_type": "code",
   "execution_count": 1,
   "metadata": {},
   "outputs": [],
   "source": [
    "import logictensornetworks as ltn\n",
    "import numpy as np\n",
    "import torch\n",
    "import torch.nn as nn"
   ]
  },
  {
   "cell_type": "markdown",
   "metadata": {},
   "source": [
    "## Connectives\n",
    "\n",
    "LTN suppports various logical connectives. They are grounded using fuzzy semantics. We have implemented the most common fuzzy logic operators using tensorflow primitives in `ltn.fuzzy_ops`. We recommend to use the following configuration:\n",
    "* not: the standard negation  $\\lnot u = 1-u$,\n",
    "* and: the product t-norm $u \\land v = uv$,\n",
    "* or: the product t-conorm (probabilistic sum) $u \\lor v = u+v-uv$,\n",
    "* implication: the Reichenbach implication $u \\rightarrow v = 1 - u + uv$,\n",
    "\n",
    "where $u$ and $v$ denote two truth values in $[0,1]$. For more details on choosing the right operators for your task, read the complementary notebook."
   ]
  },
  {
   "cell_type": "code",
   "execution_count": 2,
   "metadata": {},
   "outputs": [],
   "source": [
    "Not = ltn.Wrapper_Connective(ltn.fuzzy_ops.Not_Std())\n",
    "And = ltn.Wrapper_Connective(ltn.fuzzy_ops.And_Prod())\n",
    "Or = ltn.Wrapper_Connective(ltn.fuzzy_ops.Or_ProbSum())\n",
    "Implies = ltn.Wrapper_Connective(ltn.fuzzy_ops.Implies_Reichenbach())"
   ]
  },
  {
   "cell_type": "markdown",
   "metadata": {},
   "source": [
    "The wrapper `ltn.Wrapper_Connective` allows to use the operators with LTN formulas. It takes care of combining sub-formulas that have different variables appearing in them (the sub-formulas may have different dimensions that need to be \"broadcasted\")."
   ]
  },
  {
   "cell_type": "code",
   "execution_count": 3,
   "metadata": {},
   "outputs": [
    {
     "data": {
      "text/plain": "tensor([0.0178])"
     },
     "execution_count": 3,
     "metadata": {},
     "output_type": "execute_result"
    }
   ],
   "source": [
    "x = ltn.variable('x',np.random.normal(0.,1.,(10,2))) # 10 values in R²\n",
    "y = ltn.variable('y',np.random.normal(0.,2.,(5,2))) # 5 values in R²\n",
    "\n",
    "c1 = ltn.constant([0.5,0.0])\n",
    "c2 = ltn.constant([4.0,2.0])\n",
    "\n",
    "Eq = ltn.Predicate.Lambda(lambda args: torch.exp(-torch.norm(args[0]-args[1],dim=1))) # predicate measuring similarity\n",
    "\n",
    "Eq([c1,c2])"
   ]
  },
  {
   "cell_type": "code",
   "execution_count": 4,
   "metadata": {},
   "outputs": [
    {
     "data": {
      "text/plain": "tensor([0.9822])"
     },
     "execution_count": 4,
     "metadata": {},
     "output_type": "execute_result"
    }
   ],
   "source": [
    "Not(Eq([c1,c2]))"
   ]
  },
  {
   "cell_type": "code",
   "execution_count": 5,
   "metadata": {},
   "outputs": [
    {
     "data": {
      "text/plain": "tensor([0.9825])"
     },
     "execution_count": 5,
     "metadata": {},
     "output_type": "execute_result"
    }
   ],
   "source": [
    "Implies(Eq([c1,c2]), Eq([c2,c1]))"
   ]
  },
  {
   "cell_type": "code",
   "execution_count": 6,
   "metadata": {},
   "outputs": [
    {
     "data": {
      "text/plain": "torch.Size([10])"
     },
     "execution_count": 6,
     "metadata": {},
     "output_type": "execute_result"
    }
   ],
   "source": [
    "# Notice the dimension of the outcome: the result is evaluated for every x. \n",
    "And(Eq([x,c1]), Eq([x,c2])).shape"
   ]
  },
  {
   "cell_type": "code",
   "execution_count": 7,
   "metadata": {},
   "outputs": [
    {
     "data": {
      "text/plain": "torch.Size([10, 5])"
     },
     "execution_count": 7,
     "metadata": {},
     "output_type": "execute_result"
    }
   ],
   "source": [
    "# Notice the dimensions of the outcome: the result is evaluated for every x and y.\n",
    "# Notice also that y did not appear in the 1st argument of `Or`; \n",
    "# the connective broadcasts the results of its two arguments to match.\n",
    "Or(Eq([x,c1]), Eq([x,y])).shape"
   ]
  },
  {
   "cell_type": "markdown",
   "metadata": {},
   "source": [
    "## Quantifiers\n",
    "\n",
    "LTN suppports universal and existential quantification. They are grounded using aggregation operators. We recommend using the following two operators:\n",
    "\n",
    "- existential quantification (\"exists\"):  \n",
    "the generalized mean (`pMean`) $\\mathrm{pM}(u_1,\\dots,u_n) = \\biggl( \\frac{1}{n} \\sum\\limits_{i=1}^n u_i^p \\biggr)^{\\frac{1}{p}} \\qquad p \\geq 1$,\n",
    "- universal quantification (\"for all\"):  \n",
    "the generalized mean of \"the deviations w.r.t. the truth\" (`pMeanError`) $\\mathrm{pME}(u_1,\\dots,u_n) = 1 - \\biggl( \\frac{1}{n} \\sum\\limits_{i=1}^n (1-u_i)^p \\biggr)^{\\frac{1}{p}} \\qquad p \\geq 1$,\n",
    "\n",
    "where $u_1,\\dots,u_n$ is a list of truth values in $[0,1]$. "
   ]
  },
  {
   "cell_type": "code",
   "execution_count": 8,
   "metadata": {},
   "outputs": [],
   "source": [
    "Forall = ltn.Wrapper_Quantifier(ltn.fuzzy_ops.Aggreg_pMeanError(p=2),semantics=\"forall\")\n",
    "Exists = ltn.Wrapper_Quantifier(ltn.fuzzy_ops.Aggreg_pMean(p=5),semantics=\"exists\")"
   ]
  },
  {
   "cell_type": "markdown",
   "metadata": {},
   "source": [
    "The wrapper `ltn.Wrapper_Quantifier` allows to use the aggregators with LTN formulas. It takes care of selecting the tensor dimensions to aggregate, given some variables in arguments."
   ]
  },
  {
   "cell_type": "code",
   "execution_count": 9,
   "metadata": {},
   "outputs": [
    {
     "data": {
      "text/plain": "torch.Size([10, 5])"
     },
     "execution_count": 9,
     "metadata": {},
     "output_type": "execute_result"
    }
   ],
   "source": [
    "x = ltn.variable('x',np.random.normal(0.,1.,(10,2))) # 10 values in R²\n",
    "y = ltn.variable('y',np.random.normal(0.,2.,(5,2))) # 5 values in R²\n",
    "\n",
    "Eq = ltn.Predicate.Lambda(lambda args: torch.exp(-torch.norm(args[0]-args[1],dim=1))) # predicate measuring similarity\n",
    "\n",
    "Eq([x,y]).shape"
   ]
  },
  {
   "cell_type": "code",
   "execution_count": 10,
   "metadata": {},
   "outputs": [
    {
     "data": {
      "text/plain": "torch.Size([5])"
     },
     "execution_count": 10,
     "metadata": {},
     "output_type": "execute_result"
    }
   ],
   "source": [
    "Forall(x,Eq([x,y])).shape"
   ]
  },
  {
   "cell_type": "code",
   "execution_count": 11,
   "metadata": {},
   "outputs": [
    {
     "data": {
      "text/plain": "tensor(0.1202)"
     },
     "execution_count": 11,
     "metadata": {},
     "output_type": "execute_result"
    }
   ],
   "source": [
    "Forall((x,y),Eq([x,y]))"
   ]
  },
  {
   "cell_type": "code",
   "execution_count": 12,
   "metadata": {},
   "outputs": [
    {
     "data": {
      "text/plain": "tensor(0.3340)"
     },
     "execution_count": 12,
     "metadata": {},
     "output_type": "execute_result"
    }
   ],
   "source": [
    "Exists((x,y),Eq([x,y]))"
   ]
  },
  {
   "cell_type": "code",
   "execution_count": 13,
   "metadata": {},
   "outputs": [
    {
     "data": {
      "text/plain": "tensor(0.2916)"
     },
     "execution_count": 13,
     "metadata": {},
     "output_type": "execute_result"
    }
   ],
   "source": [
    "Forall(x, Exists(y, Eq([x,y])))"
   ]
  },
  {
   "cell_type": "markdown",
   "metadata": {},
   "source": [
    "`pMean` can be understood as a soft-maximum that depends on the hyper-paramer $p$:\n",
    "- $p \\to 1$: the operator tends to `mean`,\n",
    "- $p \\to +\\infty$: the operator tends to `max`.\n",
    "\n",
    "Similarly, `pMeanError` can be understood as a soft-minimum:\n",
    "- $p \\to 1$: the operator tends to `mean`,\n",
    "- $p \\to +\\infty$: the operator tends to `min`.\n",
    "\n",
    "Therefore, $p$ offers flexibility in writing more or less strict formulas, to account for outliers in the data depending on the application. Note that this can have strong implications for training (see complementary notebook). One can set a default value for $p$ when initializing the operator, or can use different values at each call of the operator."
   ]
  },
  {
   "cell_type": "code",
   "execution_count": 14,
   "metadata": {},
   "outputs": [
    {
     "data": {
      "text/plain": "tensor(0.3393)"
     },
     "execution_count": 14,
     "metadata": {},
     "output_type": "execute_result"
    }
   ],
   "source": [
    "Forall(x,Eq([x,c1]),p=2)"
   ]
  },
  {
   "cell_type": "code",
   "execution_count": 15,
   "metadata": {},
   "outputs": [
    {
     "data": {
      "text/plain": "tensor(0.2490)"
     },
     "execution_count": 15,
     "metadata": {},
     "output_type": "execute_result"
    }
   ],
   "source": [
    "Forall(x,Eq([x,c1]),p=10)"
   ]
  },
  {
   "cell_type": "code",
   "execution_count": 16,
   "metadata": {},
   "outputs": [
    {
     "data": {
      "text/plain": "tensor(0.3867)"
     },
     "execution_count": 16,
     "metadata": {},
     "output_type": "execute_result"
    }
   ],
   "source": [
    "Exists(x,Eq([x,c1]),p=2)"
   ]
  },
  {
   "cell_type": "code",
   "execution_count": 17,
   "metadata": {},
   "outputs": [
    {
     "data": {
      "text/plain": "tensor(0.5020)"
     },
     "execution_count": 17,
     "metadata": {},
     "output_type": "execute_result"
    }
   ],
   "source": [
    "Exists(x,Eq([x,c1]),p=10)"
   ]
  },
  {
   "cell_type": "markdown",
   "metadata": {},
   "source": [
    "## Diagonal Quantification\n",
    "\n",
    "Given 2 (or more) variables, there are scenarios where one wants to express statements about specific pairs (or tuples) only, such that the $i$-th tuple contains the $i$-th instances of the variables. We allow this using `ltn.diag`. **Note**: diagonal quantification assumes that the variables have the same number of individuals.\n",
    "\n",
    "In simplified pseudo-code, the usual quantification would compute:\n",
    "```python\n",
    "for x_i in x:\n",
    "    for y_j in y:\n",
    "        results.append(P(x_i,y_j))\n",
    "aggregate(results)\n",
    "```\n",
    "In contrast, diagonal quantification would compute:\n",
    "```python\n",
    "for x_i, y_i in zip(x,y):\n",
    "    results.append(P(x_i,y_i))\n",
    "aggregate(results)\n",
    "```\n",
    "\n",
    "We illustrate `ltn.diag` in the following setting: \n",
    "- the variable $x$ denotes 100 individuals in $\\mathbb{R}^{2\\times2}$, \n",
    "- the variable $l$ denotes 100 one-hot labels in $\\mathbb{N}^3$ (3 possible classes),\n",
    "- $l$ is grounded according to $x$ such that each pair $(x_i,l_i)$, for $i=0..100$ denotes one correct example from the dataset,\n",
    "- the classifier $C(x,l)$ gives a confidence value in $[0,1]$ of the sample $x$ corresponding to the label $l$."
   ]
  },
  {
   "cell_type": "code",
   "execution_count": 18,
   "metadata": {},
   "outputs": [],
   "source": [
    "# The values are generated at random, for the sake of illustration.\n",
    "# In a real scenario, they would come from a dataset.\n",
    "samples = np.random.rand(100,2,2) # 100 R^{2x2} values \n",
    "labels = np.random.randint(3, size=100) # 100 labels (class 0/1/2) that correspond to each sample \n",
    "\n",
    "onehot_labels = torch.zeros((len(labels),3))\n",
    "for i, l in enumerate(labels):\n",
    "    onehot_labels[i,l] = 1\n",
    "\n",
    "x = ltn.variable(\"x\",samples) \n",
    "l = ltn.variable(\"l\",onehot_labels)\n",
    "\n",
    "class ModelC(nn.Module):\n",
    "    def __init__(self, input_size):\n",
    "        super(ModelC, self).__init__()\n",
    "        self.flatten = nn.Flatten()\n",
    "        self.fc1 = nn.Linear(np.prod(input_size),5)\n",
    "        self.fc2 = nn.Linear(5,3)\n",
    "        self.elu = nn.ELU()\n",
    "        self.softmax = nn.Softmax(dim=0)\n",
    "    def forward(self,inputs):\n",
    "        x, l = inputs[0], inputs[1]\n",
    "        x = self.flatten(x)\n",
    "        x = self.fc1(x)\n",
    "        x = self.elu(x)\n",
    "        x = self.fc2(x)\n",
    "        x = self.softmax(x)\n",
    "        return torch.sum(x*l, dim=1)\n",
    "\n",
    "C = ltn.Predicate(ModelC(samples.shape[1:]))"
   ]
  },
  {
   "cell_type": "markdown",
   "metadata": {},
   "source": [
    "If some variables are marked using `ltn.diag`, LTN will only compute their \"zipped\" results (instead of the usual \"broadcasting\")."
   ]
  },
  {
   "cell_type": "code",
   "execution_count": 19,
   "metadata": {},
   "outputs": [
    {
     "name": "stdout",
     "output_type": "stream",
     "text": [
      "torch.Size([100, 100])\n",
      "torch.Size([100])\n",
      "torch.Size([100, 100])\n"
     ]
    }
   ],
   "source": [
    "print(C([x,l]).shape) # Computes the 100x100 combinations\n",
    "ltn.diag(x,l) # sets the diag behavior for x and l\n",
    "print(C([x,l]).shape) # Computes the 100 zipped combinations\n",
    "ltn.undiag(x,l) # resets the normal behavior\n",
    "print(C([x,l]).shape) # Computes the 100x100 combinations"
   ]
  },
  {
   "cell_type": "markdown",
   "metadata": {},
   "source": [
    "In practice, `ltn.diag` is designed to be used with quantifiers. \n",
    "Every quantifier automatically calls `ltn.undiag` after the aggregation is performed, so that the variables keep their normal behavior outside of the formula.\n",
    "Therefore, it is recommended to use `ltn.diag` only in quantified formulas as follows."
   ]
  },
  {
   "cell_type": "code",
   "execution_count": 20,
   "metadata": {},
   "outputs": [
    {
     "data": {
      "text/plain": "tensor(0.0099, grad_fn=<RsubBackward1>)"
     },
     "execution_count": 20,
     "metadata": {},
     "output_type": "execute_result"
    }
   ],
   "source": [
    "Forall(ltn.diag(x,l), C([x,l])) # Aggregates only on the 100 \"zipped\" pairs.\n",
    "                                # Automatically calls `ltn.undiag` so the behavior of x/l is unchanged outside of this formula."
   ]
  },
  {
   "cell_type": "markdown",
   "metadata": {},
   "source": [
    "## Guarded Quantifiers\n",
    "\n",
    "One may wish to quantify over a set of elements whose grounding satisfy some **boolean** condition. Let us assume $x$ is a variable from some domain and $m$ is a mask function that returns boolean values (that is, $0$ or $1$, not continuous truth degrees in $[0,1]$) for each element of the domain.   \n",
    "In guarded quantification, one has quantifications of the form\n",
    "$$\n",
    "(\\forall x: m(x)) \\phi(x)\n",
    "$$\n",
    "which means \"every x satisfying $m(x)$ also satisfies $\\phi(x)$\", or\n",
    "$$\n",
    "(\\exists x: m(x)) \\phi(x)\n",
    "$$\n",
    "which means \"some x satisfying $m(x)$ also satisfies $\\phi(x)$\".\n",
    "\n",
    "The mask $m$ can also depend on other variables in the formula. For instance, the quantification $\\exists y (\\forall x:m(x,y)) \\phi(x,y)$ is also a valid sentence.\n",
    "\n",
    "Let us consider the following example, that states that there exists an euclidian distance $d$ below which all pairs of points $x$, $y$ should be considered as similar:\n",
    "$\\exists d \\ \\forall x,y : \\mathrm{dist}(x,y) < d \\ ( \\mathrm{Eq}(x,y))) $"
   ]
  },
  {
   "cell_type": "code",
   "execution_count": 21,
   "metadata": {},
   "outputs": [],
   "source": [
    "Eq = ltn.Predicate.Lambda(lambda args: torch.exp(-torch.norm(args[0]-args[1],dim=1))) # predicate measuring similarity\n",
    "\n",
    "points = np.random.rand(50,2) # 50 values in [0,1]^2\n",
    "x = ltn.variable(\"x\",points)\n",
    "y = ltn.variable(\"y\",points)\n",
    "d = ltn.variable(\"d\",[.1,.2,.3,.4,.5,.6,.7,.8,.9])"
   ]
  },
  {
   "cell_type": "code",
   "execution_count": 22,
   "metadata": {},
   "outputs": [
    {
     "ename": "RuntimeError",
     "evalue": "shape '[50, 50, 9]' is invalid for input of size 506250000",
     "output_type": "error",
     "traceback": [
      "\u001B[1;31m---------------------------------------------------------------------------\u001B[0m",
      "\u001B[1;31mRuntimeError\u001B[0m                              Traceback (most recent call last)",
      "\u001B[1;32m<ipython-input-22-fe878752af63>\u001B[0m in \u001B[0;36m<module>\u001B[1;34m\u001B[0m\n\u001B[0;32m      1\u001B[0m \u001B[0meucl_dist\u001B[0m \u001B[1;33m=\u001B[0m \u001B[1;32mlambda\u001B[0m \u001B[0mx\u001B[0m\u001B[1;33m,\u001B[0m\u001B[0my\u001B[0m\u001B[1;33m:\u001B[0m \u001B[0mtorch\u001B[0m\u001B[1;33m.\u001B[0m\u001B[0munsqueeze\u001B[0m\u001B[1;33m(\u001B[0m\u001B[0mtorch\u001B[0m\u001B[1;33m.\u001B[0m\u001B[0mnorm\u001B[0m\u001B[1;33m(\u001B[0m\u001B[0mx\u001B[0m\u001B[1;33m-\u001B[0m\u001B[0my\u001B[0m\u001B[1;33m,\u001B[0m\u001B[0mdim\u001B[0m\u001B[1;33m=\u001B[0m\u001B[1;36m1\u001B[0m\u001B[1;33m)\u001B[0m\u001B[1;33m,\u001B[0m\u001B[0mdim\u001B[0m\u001B[1;33m=\u001B[0m\u001B[1;36m1\u001B[0m\u001B[1;33m)\u001B[0m \u001B[1;31m# function measuring euclidian distance\u001B[0m\u001B[1;33m\u001B[0m\u001B[1;33m\u001B[0m\u001B[0m\n\u001B[0;32m      2\u001B[0m Exists(d, \n\u001B[1;32m----> 3\u001B[1;33m       Forall([x,y],\n\u001B[0m\u001B[0;32m      4\u001B[0m             \u001B[0mEq\u001B[0m\u001B[1;33m(\u001B[0m\u001B[1;33m[\u001B[0m\u001B[0mx\u001B[0m\u001B[1;33m,\u001B[0m\u001B[0my\u001B[0m\u001B[1;33m]\u001B[0m\u001B[1;33m)\u001B[0m\u001B[1;33m,\u001B[0m\u001B[1;33m\u001B[0m\u001B[1;33m\u001B[0m\u001B[0m\n\u001B[0;32m      5\u001B[0m             \u001B[0mmask_vars\u001B[0m\u001B[1;33m=\u001B[0m\u001B[1;33m[\u001B[0m\u001B[0mx\u001B[0m\u001B[1;33m,\u001B[0m\u001B[0my\u001B[0m\u001B[1;33m,\u001B[0m\u001B[0md\u001B[0m\u001B[1;33m]\u001B[0m\u001B[1;33m,\u001B[0m\u001B[1;33m\u001B[0m\u001B[1;33m\u001B[0m\u001B[0m\n",
      "\u001B[1;32m~\\Documents\\GitHub\\logictensornetworks-pytorch\\logictensornetworks\\core.py\u001B[0m in \u001B[0;36m__call__\u001B[1;34m(self, variables, wff, mask_vars, mask_fn, **kwargs)\u001B[0m\n\u001B[0;32m    388\u001B[0m             \u001B[1;31m# raise ValueError(\"Masked FN Ragged tensors not yet implemented in Torch\")\u001B[0m\u001B[1;33m\u001B[0m\u001B[1;33m\u001B[0m\u001B[1;33m\u001B[0m\u001B[0m\n\u001B[0;32m    389\u001B[0m             \u001B[1;31m# create and apply the mask\u001B[0m\u001B[1;33m\u001B[0m\u001B[1;33m\u001B[0m\u001B[1;33m\u001B[0m\u001B[0m\n\u001B[1;32m--> 390\u001B[1;33m             \u001B[0mwff\u001B[0m\u001B[1;33m,\u001B[0m \u001B[0mmask\u001B[0m \u001B[1;33m=\u001B[0m \u001B[0mcompute_mask\u001B[0m\u001B[1;33m(\u001B[0m\u001B[0mwff\u001B[0m\u001B[1;33m,\u001B[0m \u001B[0mmask_vars\u001B[0m\u001B[1;33m,\u001B[0m \u001B[0mmask_fn\u001B[0m\u001B[1;33m,\u001B[0m \u001B[0maggreg_doms\u001B[0m\u001B[1;33m)\u001B[0m\u001B[1;33m\u001B[0m\u001B[1;33m\u001B[0m\u001B[0m\n\u001B[0m\u001B[0;32m    391\u001B[0m             \u001B[0mragged_wff\u001B[0m \u001B[1;33m=\u001B[0m \u001B[0mtf\u001B[0m\u001B[1;33m.\u001B[0m\u001B[0mragged\u001B[0m\u001B[1;33m.\u001B[0m\u001B[0mboolean_mask\u001B[0m\u001B[1;33m(\u001B[0m\u001B[0mwff\u001B[0m\u001B[1;33m,\u001B[0m \u001B[0mmask\u001B[0m\u001B[1;33m)\u001B[0m\u001B[1;33m\u001B[0m\u001B[1;33m\u001B[0m\u001B[0m\n\u001B[0;32m    392\u001B[0m             \u001B[1;31m# aggregate\u001B[0m\u001B[1;33m\u001B[0m\u001B[1;33m\u001B[0m\u001B[1;33m\u001B[0m\u001B[0m\n",
      "\u001B[1;32m~\\Documents\\GitHub\\logictensornetworks-pytorch\\logictensornetworks\\core.py\u001B[0m in \u001B[0;36mcompute_mask\u001B[1;34m(wff, mask_vars, mask_fn, aggreg_doms)\u001B[0m\n\u001B[0;32m    432\u001B[0m     \u001B[0mcrossed_mask_vars\u001B[0m\u001B[1;33m,\u001B[0m \u001B[0mdoms_order_in_mask\u001B[0m\u001B[1;33m,\u001B[0m \u001B[0mdims0\u001B[0m \u001B[1;33m=\u001B[0m \u001B[0mcross_args\u001B[0m\u001B[1;33m(\u001B[0m\u001B[0mmask_vars\u001B[0m\u001B[1;33m,\u001B[0m \u001B[0mflatten_dim0\u001B[0m\u001B[1;33m=\u001B[0m\u001B[1;32mTrue\u001B[0m\u001B[1;33m)\u001B[0m\u001B[1;33m\u001B[0m\u001B[1;33m\u001B[0m\u001B[0m\n\u001B[0;32m    433\u001B[0m     \u001B[0mmask\u001B[0m \u001B[1;33m=\u001B[0m \u001B[0mmask_fn\u001B[0m\u001B[1;33m(\u001B[0m\u001B[0mcrossed_mask_vars\u001B[0m\u001B[1;33m)\u001B[0m\u001B[1;33m\u001B[0m\u001B[1;33m\u001B[0m\u001B[0m\n\u001B[1;32m--> 434\u001B[1;33m     \u001B[0mmask\u001B[0m \u001B[1;33m=\u001B[0m \u001B[0mtorch\u001B[0m\u001B[1;33m.\u001B[0m\u001B[0mreshape\u001B[0m\u001B[1;33m(\u001B[0m\u001B[0mmask\u001B[0m\u001B[1;33m,\u001B[0m \u001B[0mdims0\u001B[0m\u001B[1;33m)\u001B[0m\u001B[1;33m\u001B[0m\u001B[1;33m\u001B[0m\u001B[0m\n\u001B[0m\u001B[0;32m    435\u001B[0m     \u001B[1;31m# 4. shape it according to the var order in wff\u001B[0m\u001B[1;33m\u001B[0m\u001B[1;33m\u001B[0m\u001B[1;33m\u001B[0m\u001B[0m\n\u001B[0;32m    436\u001B[0m     \u001B[0mmask\u001B[0m\u001B[1;33m.\u001B[0m\u001B[0mactive_doms\u001B[0m \u001B[1;33m=\u001B[0m \u001B[0mdoms_order_in_mask\u001B[0m\u001B[1;33m\u001B[0m\u001B[1;33m\u001B[0m\u001B[0m\n",
      "\u001B[1;31mRuntimeError\u001B[0m: shape '[50, 50, 9]' is invalid for input of size 506250000"
     ]
    }
   ],
   "source": [
    "eucl_dist = lambda x,y: torch.unsqueeze(torch.norm(x-y,dim=1),dim=1) # function measuring euclidian distance\n",
    "Exists(d, \n",
    "      Forall([x,y],\n",
    "            Eq([x,y]),\n",
    "            mask_vars=[x,y,d],\n",
    "            mask_fn=lambda args: eucl_dist(args[0],args[1])<args[2]\n",
    "            ))"
   ]
  },
  {
   "cell_type": "markdown",
   "metadata": {},
   "source": [
    "The guarded option is particularly useful to propagate gradients (see notebook on learning) over only a subset of the domains, that verifies the condition $m$."
   ]
  },
  {
   "cell_type": "code",
   "execution_count": null,
   "outputs": [],
   "source": [],
   "metadata": {
    "collapsed": false,
    "pycharm": {
     "name": "#%%\n"
    }
   }
  }
 ],
 "metadata": {
  "kernelspec": {
   "name": "python3",
   "language": "python",
   "display_name": "Python 3"
  },
  "language_info": {
   "codemirror_mode": {
    "name": "ipython",
    "version": 3
   },
   "file_extension": ".py",
   "mimetype": "text/x-python",
   "name": "python",
   "nbconvert_exporter": "python",
   "pygments_lexer": "ipython3",
   "version": "3.8.6"
  }
 },
 "nbformat": 4,
 "nbformat_minor": 4
}