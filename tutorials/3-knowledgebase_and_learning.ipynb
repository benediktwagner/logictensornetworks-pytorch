{
 "cells": [
  {
   "cell_type": "markdown",
   "metadata": {},
   "source": [
    "# Learning in LTN\n",
    "\n",
    "This tutorial explains how to learn some language symbols (predicates, functions, constants) using the satisfaction of a knowledgebase as an objective. It expects basic familiarity of the first two turoials on LTN (grounding symbols and connectives)."
   ]
  },
  {
   "cell_type": "code",
   "execution_count": 2,
   "metadata": {},
   "outputs": [],
   "source": [
    "import logictensornetworks as ltn\n",
    "import torch\n",
    "import torch.nn as nn\n",
    "import numpy as np\n",
    "import matplotlib.pyplot as plt"
   ]
  },
  {
   "cell_type": "markdown",
   "metadata": {},
   "source": [
    "We use the following simple example to illustrate learning in LTN.\n",
    "\n",
    "The domain is the square $[0,4] \\times [0,4]$. We have one example of the class $A$ and one example of the class $B$. The rest of the individuals are not labelled, but there are two assumptions:\n",
    "- $A$ and $B$ are mutually exclusive,\n",
    "- any two close points should share the same label."
   ]
  },
  {
   "cell_type": "code",
   "execution_count": 3,
   "metadata": {},
   "outputs": [
    {
     "data": {
      "text/plain": "<Figure size 432x288 with 1 Axes>",
      "image/png": "[encoded data removed]"
     },
     "metadata": {
      "needs_background": "light"
     },
     "output_type": "display_data"
    }
   ],
   "source": [
    "points = np.array(\n",
    "        [[0.4,0.3],[1.2,0.3],[2.2,1.3],[1.7,1.0],[0.5,0.5],[0.3, 1.5],[1.3, 1.1],[0.9, 1.7],\n",
    "        [3.4,3.3],[3.2,3.3],[3.2,2.3],[2.7,2.0],[3.5,3.5],[3.3, 2.5],[3.3, 1.1],[1.9, 3.7],[1.3, 3.5],[3.3, 1.1],[3.9, 3.7]])\n",
    "point_a = [3.3,2.5]\n",
    "point_b = [1.3,1.1]\n",
    "fig, ax = plt.subplots()\n",
    "ax.set_xlim(0,4)\n",
    "ax.set_ylim(0,4)\n",
    "ax.scatter(points[:,0],points[:,1],color=\"black\",label=\"unknown\")\n",
    "ax.scatter(point_a[0],point_a[1],color=\"blue\",label=\"a\")\n",
    "ax.scatter(point_b[0],point_b[1],color=\"red\",label=\"b\")\n",
    "ax.set_title(\"Dataset of individuals\")\n",
    "plt.legend();"
   ]
  },
  {
   "cell_type": "markdown",
   "metadata": {},
   "source": [
    "We define the membership predicate $C(x,l)$, where $x$ is an individual and $l$ is a onehot label to denote the two classes. $C$ is approximated by a simple MLP. The last layer, that computes probabilities per class, uses a `softmax` activation, ensuring that the classes are mutually-exclusive.\n",
    "\n",
    "We define the knowledgebase $\\mathcal{K}$ composed of the following rules:\n",
    "\\begin{align}\n",
    "& C(a,l_a)\\\\\n",
    "& C(b,l_b)\\\\\n",
    "\\forall x_1,x_2,l\\ \\big(\\mathrm{Sim}(x_1,x_2) & \\rightarrow \\big(C(x_1,l)\\leftrightarrow C(x_2,l)\\big)\\big)\n",
    "\\end{align}\n",
    "where $a$ and $b$ the two individuals already classified; $x_1$,$x_2$ are variables ranging over all individuals; $l_a$, $l_b$ are the one-hot labels for $A$ and $B$; $l$ is a variable ranging over the labels. $\\mathrm{Sim}$ is a predicate measuring similarity between two points. $\\mathcal{G}(\\mathrm{Sim}):\\vec{u},\\vec{v}\\mapsto \\exp(-\\|\\vec{u}-\\vec{v} \\|^2)$.\n",
    "\n",
    "The objective is to learn the predicate $C$ to maximize the satisfaction of $\\mathcal{K}$. If $\\theta$ denotes the set of trainable parameters, the task is :\n",
    "$$\n",
    "\\theta^\\ast = \\mathrm{argmax}_{\\theta\\in\\Theta}\\ \\mathrm{SatAgg}_{\\phi\\in\\mathcal{K}}\\mathcal{G}_{\\theta}(\\phi)\n",
    "$$\n",
    "where $\\mathrm{SatAgg}$ is an operator that aggregates the truth values of the formulas in $\\mathcal{K}$ (if there are more than one formula).\n",
    "\n",
    "To evaluate the grounding of each formula, one has to define the grounding of the non-logical symbols and of the operators."
   ]
  },
  {
   "cell_type": "code",
   "execution_count": 4,
   "metadata": {},
   "outputs": [],
   "source": [
    "class ModelC(nn.Module):\n",
    "    def __init__(self, input_size):\n",
    "        super(ModelC, self).__init__()\n",
    "        self.fc1 = nn.Linear(input_size,5)\n",
    "        self.fc2 = nn.Linear(5,5)\n",
    "        self.fc3 = nn.Linear(5,2)\n",
    "        self.elu = nn.ELU()\n",
    "        self.softmax = nn.Softmax(dim=1)\n",
    "    def forward(self,inputs):\n",
    "        \"\"\"inputs[0]: point, inputs[1]: onehot label\"\"\"\n",
    "        x, label = inputs[0], inputs[1]\n",
    "        x = self.elu(self.fc1(x))\n",
    "        x = self.elu(self.fc2(x))\n",
    "        x = self.softmax(self.fc3(x))\n",
    "        x = torch.sum(x*label,dim=1)\n",
    "        return x\n",
    "\n",
    "C = ltn.Predicate(ModelC(2))"
   ]
  },
  {
   "cell_type": "code",
   "execution_count": 5,
   "metadata": {},
   "outputs": [],
   "source": [
    "x1 = ltn.variable(\"x1\",points)\n",
    "x2 = ltn.variable(\"x2\",points)\n",
    "a = ltn.constant([3.3,2.5])\n",
    "b = ltn.constant([1.3,1.1])\n",
    "l_a = ltn.constant([1,0])\n",
    "l_b = ltn.constant([0,1])\n",
    "l = ltn.variable(\"l\",[[1,0],[0,1]])\n",
    "\n",
    "Sim = ltn.Predicate.Lambda(\n",
    "    lambda args: torch.exp(-1.*torch.sqrt(torch.sum(torch.square(args[0]-args[1]),dim=1)))\n",
    ")"
   ]
  },
  {
   "cell_type": "code",
   "execution_count": 6,
   "outputs": [
    {
     "data": {
      "text/plain": "<Figure size 432x288 with 1 Axes>",
      "image/png": "[encoded data removed]"
     },
     "metadata": {
      "needs_background": "light"
     },
     "output_type": "display_data"
    }
   ],
   "source": [
    "similarities_to_a = Sim([x1,a])\n",
    "fig, ax = plt.subplots()\n",
    "ax.set_xlim(0,4)\n",
    "ax.set_ylim(0,4)\n",
    "ax.scatter(points[:,0],points[:,1],color=\"black\")\n",
    "ax.scatter(a[0],a[1],color=\"blue\")\n",
    "ax.set_title(\"Illustrating the similarities of each point to a\")\n",
    "for i, sim_to_a in enumerate(similarities_to_a):\n",
    "    plt.plot([points[i,0],a[0]],[points[i,1],a[1]], alpha=float(sim_to_a),color=\"blue\")"
   ],
   "metadata": {
    "collapsed": false,
    "pycharm": {
     "name": "#%%\n"
    }
   }
  },
  {
   "cell_type": "markdown",
   "metadata": {},
   "source": [
    "Notice the operator for equivalence $p \\leftrightarrow q$; in LTN, it is simply implemented as $(p \\rightarrow q)\\land(p \\leftarrow q)$ using one operator for conjunction and one operator for implication."
   ]
  },
  {
   "cell_type": "code",
   "execution_count": 7,
   "metadata": {},
   "outputs": [],
   "source": [
    "Not = ltn.Wrapper_Connective(ltn.fuzzy_ops.Not_Std())\n",
    "And = ltn.Wrapper_Connective(ltn.fuzzy_ops.And_Prod())\n",
    "Or = ltn.Wrapper_Connective(ltn.fuzzy_ops.Or_ProbSum())\n",
    "Implies = ltn.Wrapper_Connective(ltn.fuzzy_ops.Implies_Reichenbach())\n",
    "Equiv = ltn.Wrapper_Connective(ltn.fuzzy_ops.Equiv(ltn.fuzzy_ops.And_Prod(),ltn.fuzzy_ops.Implies_Reichenbach()))\n",
    "Forall = ltn.Wrapper_Quantifier(ltn.fuzzy_ops.Aggreg_pMeanError(p=2),semantics=\"forall\")\n",
    "Exists = ltn.Wrapper_Quantifier(ltn.fuzzy_ops.Aggreg_pMean(p=6),semantics=\"exists\")"
   ]
  },
  {
   "cell_type": "markdown",
   "metadata": {},
   "source": [
    "If there are several closed formulas in $\\mathcal{K}$, their truth values need to be aggregated.\n",
    "We recommend to use the generalized mean inspired operator `pMeanError`, already used to implement $\\forall$. \n",
    "The hyperparameter again allows flexibility in how strict the formula aggregation is ($p = 1$ corresponds to `mean`; $p \\to +\\inf$ corresponds to `min`).\n",
    "\n",
    "The knowledgebase should be written inside of a function that is decorated with `tf.function`. This Tensorflow decorator compiles the function into a callable TensorFlow graph (static)."
   ]
  },
  {
   "cell_type": "code",
   "execution_count": 8,
   "metadata": {},
   "outputs": [],
   "source": [
    "formula_aggregator = ltn.fuzzy_ops.Aggreg_pMeanError(p=2)\n",
    "\n",
    "def axioms():\n",
    "    axioms = [\n",
    "        C([a,l_a]),\n",
    "        C([b,l_b]),\n",
    "        Forall(\n",
    "            [x1,x2,l],\n",
    "            Implies( Sim([x1,x2]),\n",
    "                    Equiv(C([x1,l]),C([x2,l]))\n",
    "                   )\n",
    "        )\n",
    "    ]\n",
    "    kb_sat = formula_aggregator(torch.stack([torch.squeeze(ax) for ax in axioms]))\n",
    "    return kb_sat"
   ]
  },
  {
   "cell_type": "markdown",
   "metadata": {},
   "source": [
    "**It is important to always run (forward pass) the knowledgebase once before training, as Tensorflow initializes weights and compiles the graph during the first call.**"
   ]
  },
  {
   "cell_type": "code",
   "execution_count": 9,
   "metadata": {},
   "outputs": [
    {
     "data": {
      "text/plain": "tensor(0.5719, grad_fn=<RsubBackward1>)"
     },
     "execution_count": 9,
     "metadata": {},
     "output_type": "execute_result"
    }
   ],
   "source": [
    "axioms()"
   ]
  },
  {
   "cell_type": "markdown",
   "metadata": {},
   "source": [
    "Eventually, one can write a custom training loop in Tensorflow."
   ]
  },
  {
   "cell_type": "code",
   "execution_count": 10,
   "metadata": {},
   "outputs": [
    {
     "name": "stdout",
     "output_type": "stream",
     "text": [
      "Epoch 0: Sat Level 0.572\n",
      "Epoch 200: Sat Level 0.782\n",
      "Epoch 400: Sat Level 0.949\n",
      "Epoch 600: Sat Level 0.957\n",
      "Epoch 800: Sat Level 0.959\n",
      "Epoch 1000: Sat Level 0.959\n",
      "Epoch 1200: Sat Level 0.959\n",
      "Epoch 1400: Sat Level 0.959\n",
      "Epoch 1600: Sat Level 0.959\n",
      "Epoch 1800: Sat Level 0.959\n",
      "Training finished at Epoch 1999 with Sat Level 0.960\n"
     ]
    }
   ],
   "source": [
    "trainable_parameters = C.parameters()\n",
    "optimizer = torch.optim.Adam(trainable_parameters, lr=0.001)\n",
    "\n",
    "for epoch in range(2000):\n",
    "    optimizer.zero_grad()\n",
    "    sat = axioms()\n",
    "    loss = 1. - sat\n",
    "    loss.backward()\n",
    "    optimizer.step()\n",
    "    if epoch%200 == 0:\n",
    "        print(\"Epoch %d: Sat Level %.3f\"%(epoch, sat))\n",
    "print(\"Training finished at Epoch %d with Sat Level %.3f\"%(epoch, sat))"
   ]
  },
  {
   "cell_type": "markdown",
   "metadata": {},
   "source": [
    "After a few epochs, the system has learned to identify samples close to the point $a$ (resp. $b$) as belonging to class $A$ (resp. $B$) based on the rules of the knowledgebase."
   ]
  },
  {
   "cell_type": "code",
   "execution_count": 11,
   "metadata": {},
   "outputs": [
    {
     "data": {
      "text/plain": "<Figure size 720x216 with 4 Axes>",
      "image/png": "[encoded data removed]"
     },
     "metadata": {
      "needs_background": "light"
     },
     "output_type": "display_data"
    }
   ],
   "source": [
    "fig = plt.figure(figsize=(10,3))\n",
    "fig.add_subplot(1,2,1)\n",
    "plt.scatter(x1[:,0],x1[:,1],c=C([x1,l_a]).detach().numpy(),vmin=0,vmax=1)\n",
    "plt.title(\"C(x,l_a)\")\n",
    "plt.colorbar()\n",
    "fig.add_subplot(1,2,2)\n",
    "plt.scatter(x1[:,0],x1[:,1],c=C([x1,l_b]).detach().numpy(),vmin=0,vmax=1)\n",
    "plt.title(\"C(x,l_b)\")\n",
    "plt.colorbar()\n",
    "plt.show();"
   ]
  },
  {
   "cell_type": "markdown",
   "metadata": {},
   "source": [
    "## Special Cases\n",
    "\n",
    "### Variables grounded by batch\n",
    "\n",
    "When working with batches of data, grounding the variables with different values at each step:\n",
    "1. Pass the values in arguments to the knowledgebase function,\n",
    "2. Create the ltn variables within the function. \n",
    "\n",
    "```python\n",
    "def axioms(data_x, data_y):\n",
    "    x = ltn.variable(\"x\", data_x)\n",
    "    y = ltn.variable(\"y\", data_y)\n",
    "    return Forall([x,y],P([x,y]))\n",
    "\n",
    "...\n",
    "for epoch in range(epochs):\n",
    "    for batch_x, batch_y in dataset:\n",
    "        optimizer.zero_grad()\n",
    "        sat = axioms(batch_x,batch_y)\n",
    "        loss = 1. - sat\n",
    "        loss.backward()\n",
    "        optimizer.step()\n",
    " ```"
   ]
  },
  {
   "cell_type": "markdown",
   "metadata": {},
   "source": [
    "### Variables denoting a sequence of trainable constants\n",
    "\n",
    "When a variable denotes a sequence of trainable constants (embeddings):\n",
    "1. Do not create the variable outside the scope of `tf.GradientTape()`,\n",
    "2. Create the variable within the training step function.\n",
    "\n",
    "```python\n",
    "c1 = ltn.constant([2.1,3], trainable=True)\n",
    "c2 = ltn.constant([4.5,0.8], trainable=True)\n",
    "# Do not assign the variable here. Tensorflow would not keep track of the \n",
    "# gradients between c1/c2 and x during training.\n",
    "# x = ltn.variable(\"x\", tf.stack([c1,c2]))\n",
    "...\n",
    "def axioms():\n",
    "    # The assignation must be done within the tf.GradientTape, \n",
    "    # inside of the training step function.\n",
    "    x = ltn.variable(\"x\",torch.stack([c1,c2]))\n",
    "    return Forall(x,P(x))\n",
    "...\n",
    "for epoch in range(epochs):\n",
    "    optimizer.zero_grad()\n",
    "    loss = 1. - axioms()\n",
    "    loss.backward()\n",
    "    optimizer.step()\n",
    "```"
   ]
  }
 ],
 "metadata": {
  "kernelspec": {
   "name": "python3",
   "language": "python",
   "display_name": "Python 3"
  },
  "language_info": {
   "codemirror_mode": {
    "name": "ipython",
    "version": 3
   },
   "file_extension": ".py",
   "mimetype": "text/x-python",
   "name": "python",
   "nbconvert_exporter": "python",
   "pygments_lexer": "ipython3",
   "version": "3.8.6"
  }
 },
 "nbformat": 4,
 "nbformat_minor": 4
}